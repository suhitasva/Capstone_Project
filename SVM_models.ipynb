{
 "cells": [
  {
   "cell_type": "markdown",
   "id": "d50954a8",
   "metadata": {},
   "source": [
    "# Capstone project - HealthCare Fraud Detection : Support Vector Machine Models"
   ]
  },
  {
   "cell_type": "code",
   "execution_count": 9,
   "id": "e9a9373a",
   "metadata": {},
   "outputs": [
    {
     "name": "stderr",
     "output_type": "stream",
     "text": [
      "Intel(R) Extension for Scikit-learn* enabled (https://github.com/intel/scikit-learn-intelex)\n"
     ]
    }
   ],
   "source": [
    "import pandas as pd\n",
    "import numpy as np\n",
    "import seaborn as sns\n",
    "import matplotlib.pyplot as plt\n",
    "from sklearnex import patch_sklearn \n",
    "patch_sklearn()\n",
    "from sklearn import preprocessing\n",
    "from sklearn.svm import LinearSVC,SVC\n",
    "from sklearn.model_selection import train_test_split,\\\n",
    "StratifiedKFold, cross_val_score, RandomizedSearchCV\n",
    "from yellowbrick.classifier import confusion_matrix, classification_report, ROCAUC\n",
    "from yellowbrick.model_selection import CVScores\n",
    "from cp_clean_helper import show_values\n",
    "from LGR_helper import std_num_cols, rb_scale_cols, model_results, get_confusion_matrix\n",
    "plt.style.use('ggplot')\n",
    "import warnings\n",
    "warnings.filterwarnings(\"ignore\")\n",
    "pd.set_option('display.max_columns', 100)"
   ]
  },
  {
   "cell_type": "markdown",
   "id": "4d7b2b0e",
   "metadata": {},
   "source": [
    "### # Loading datasets, and looking at shapes:-"
   ]
  },
  {
   "cell_type": "code",
   "execution_count": 2,
   "id": "4fb43038",
   "metadata": {},
   "outputs": [
    {
     "name": "stdout",
     "output_type": "stream",
     "text": [
      "\n",
      "\n",
      "Shape of SMOTE balanced trainX data : (483580, 44)\n",
      "Shape of SMOTE balanced trainY data : (483580, 1)\n",
      "Shape of SMOTE balanced testX data : (207250, 44)\n",
      "Shape of SMOTE balanced testY data : (207250, 1)\n",
      "Shape of Borderline SMOTE balanced trainX data : (483580, 44)\n",
      "Shape of Borderline SMOTE balanced trainY data : (483580, 1)\n",
      "Shape of Borderline SMOTE balanced testX data : (207250, 44)\n",
      "Shape of Borderline SMOTE balanced testY data : (207250, 1)\n",
      "\n",
      "\n",
      "************************************************************\n",
      "\n",
      "\n",
      "Class ratio - Fraud/Non-Fraud (trainY_SM) : PotentialFraud\n",
      "0                 50.0\n",
      "1                 50.0\n",
      "dtype: float64\n",
      "Class ratio - Fraud/Non-Fraud (testY_SM) : PotentialFraud\n",
      "0                 50.0\n",
      "1                 50.0\n",
      "dtype: float64\n",
      "Class ratio - Fraud/Non-Fraud (trainY_BSM) : PotentialFraud\n",
      "0                 50.0\n",
      "1                 50.0\n",
      "dtype: float64\n",
      "Class ratio - Fraud/Non-Fraud (testY_BSM) : PotentialFraud\n",
      "0                 50.0\n",
      "1                 50.0\n",
      "dtype: float64\n",
      "\n",
      "\n",
      "************************************************************\n"
     ]
    }
   ],
   "source": [
    "# Loading train-test 70:30 split (SMOTE and BorderlineSMOTE) datasets\n",
    "# For these same columns have been drooped as done for the LGR model\n",
    "\n",
    "trainX_SM = pd.read_csv(\"trainX_SM.csv\",index_col=0)\n",
    "trainY_SM = pd.read_csv(\"trainY_SM.csv\",index_col=0)\n",
    "testX_SM = pd.read_csv(\"testX_SM.csv\",index_col=0)\n",
    "testY_SM = pd.read_csv(\"testY_SM.csv\",index_col=0)\n",
    "\n",
    "trainX_BSM = pd.read_csv(\"trainX_BSM.csv\",index_col=0)\n",
    "trainY_BSM = pd.read_csv(\"trainY_BSM.csv\",index_col=0)\n",
    "testX_BSM = pd.read_csv(\"testX_BSM.csv\",index_col=0)\n",
    "testY_BSM = pd.read_csv(\"testY_BSM.csv\",index_col=0)\n",
    "\n",
    "# Looking at dataset shapes\n",
    "\n",
    "print('\\n')\n",
    "print('Shape of SMOTE balanced trainX data :',trainX_SM.shape)\n",
    "print('Shape of SMOTE balanced trainY data :',trainY_SM.shape)\n",
    "print('Shape of SMOTE balanced testX data :',testX_SM.shape)\n",
    "print('Shape of SMOTE balanced testY data :',testY_SM.shape)\n",
    "print('Shape of Borderline SMOTE balanced trainX data :',trainX_BSM.shape)\n",
    "print('Shape of Borderline SMOTE balanced trainY data :',trainY_BSM.shape)\n",
    "print('Shape of Borderline SMOTE balanced testX data :',testX_BSM.shape)\n",
    "print('Shape of Borderline SMOTE balanced testY data :',testY_BSM.shape, end='\\n')\n",
    "print('\\n')\n",
    "print(\"*\"*60)\n",
    "\n",
    "# Looking at class ratios\n",
    "\n",
    "print('\\n')\n",
    "print('Class ratio - Fraud/Non-Fraud (trainY_SM) :',trainY_SM.value_counts(normalize=True)*100)\n",
    "print('Class ratio - Fraud/Non-Fraud (testY_SM) :',testY_SM.value_counts(normalize=True)*100)\n",
    "print('Class ratio - Fraud/Non-Fraud (trainY_BSM) :',trainY_BSM.value_counts(normalize=True)*100)\n",
    "print('Class ratio - Fraud/Non-Fraud (testY_BSM) :',testY_BSM.value_counts(normalize=True)*100, end='\\n')\n",
    "print('\\n')\n",
    "print(\"*\"*60)"
   ]
  },
  {
   "cell_type": "markdown",
   "id": "825850ca",
   "metadata": {},
   "source": [
    "### # Standardizing the train/test features for balanced datasets:"
   ]
  },
  {
   "cell_type": "code",
   "execution_count": 3,
   "id": "60650969",
   "metadata": {},
   "outputs": [],
   "source": [
    "# SMOTE balanced dataset\n",
    "\n",
    "std_num_cols(trainX_SM)\n",
    "std_num_cols(testX_SM)\n",
    "\n",
    "# BorderlineSMOTE balanced dataset\n",
    "\n",
    "std_num_cols(trainX_BSM)\n",
    "std_num_cols(testX_BSM)"
   ]
  },
  {
   "cell_type": "markdown",
   "id": "96c5b472",
   "metadata": {},
   "source": [
    "### Baseline Linear Support Vector Classifier Model - Standardized"
   ]
  },
  {
   "cell_type": "code",
   "execution_count": 4,
   "id": "d232b592",
   "metadata": {},
   "outputs": [
    {
     "name": "stdout",
     "output_type": "stream",
     "text": [
      "[LibLinear]The Model Results for  LinearSVC(random_state=0, verbose=2)\n",
      "************************************************************\n",
      "Train Accuracy is equal to 0.516\n",
      "Test Accuracy is equal to 0.513\n",
      "The Precision score is 0.520\n",
      "The Average Precision score is 0.507\n",
      "The Recall score is 0.340\n",
      "The F1 score is 0.411\n",
      "The AUC/ROC score is 0.513\n",
      "True-Positive: 35201.000\n",
      "True-Negative: 71106.000\n",
      "False-Positive: 32519.000\n",
      "False-Negative: 68424.000\n",
      "Correctly Classified: 106307.000\n",
      "Incorrectly Classified: 100943.000\n"
     ]
    },
    {
     "data": {
      "text/plain": [
       "[0.5158691426444435,\n",
       " 0.512940892641737,\n",
       " 0.5198021264028352,\n",
       " 0.33969601930036186]"
      ]
     },
     "execution_count": 4,
     "metadata": {},
     "output_type": "execute_result"
    }
   ],
   "source": [
    "# SMOTE Balanced\n",
    "\n",
    "svm_std = LinearSVC(random_state=0, verbose=1)\n",
    "model_results(trainX_SM, trainY_SM, testX_SM, testY_SM, svm_std, show = True)"
   ]
  },
  {
   "cell_type": "code",
   "execution_count": 5,
   "id": "04202c7e",
   "metadata": {},
   "outputs": [
    {
     "name": "stdout",
     "output_type": "stream",
     "text": [
      "[LibLinear]The Model Results for  LinearSVC(random_state=0, verbose=2)\n",
      "************************************************************\n",
      "Train Accuracy is equal to 0.504\n",
      "Test Accuracy is equal to 0.505\n",
      "The Precision score is 0.504\n",
      "The Average Precision score is 0.503\n",
      "The Recall score is 0.716\n",
      "The F1 score is 0.591\n",
      "The AUC/ROC score is 0.505\n",
      "True-Positive: 74240.000\n",
      "True-Negative: 30452.000\n",
      "False-Positive: 73173.000\n",
      "False-Negative: 29385.000\n",
      "Correctly Classified: 104692.000\n",
      "Incorrectly Classified: 102558.000\n"
     ]
    },
    {
     "data": {
      "text/plain": [
       "[0.5044522105959717,\n",
       " 0.5051483715319662,\n",
       " 0.5036190837985794,\n",
       " 0.7164294330518697]"
      ]
     },
     "execution_count": 5,
     "metadata": {},
     "output_type": "execute_result"
    }
   ],
   "source": [
    "# BorderlineSMOTE Balanced\n",
    "\n",
    "svm_std = LinearSVC(random_state=0, verbose=1)\n",
    "model_results(trainX_BSM, trainY_BSM, testX_BSM, testY_BSM, svm_std, show = True)"
   ]
  },
  {
   "cell_type": "markdown",
   "id": "734ea039",
   "metadata": {},
   "source": [
    "### # Robust Scaling the train/test features for  balanced datasets:"
   ]
  },
  {
   "cell_type": "code",
   "execution_count": 10,
   "id": "e804595f",
   "metadata": {},
   "outputs": [],
   "source": [
    "# SMOTE balanced dataset\n",
    "\n",
    "rb_scale_cols(trainX_SM)\n",
    "rb_scale_cols(testX_SM)\n",
    "\n",
    "# BorderlineSMOTE balanced dataset\n",
    "\n",
    "rb_scale_cols(trainX_BSM)\n",
    "rb_scale_cols(testX_BSM)"
   ]
  },
  {
   "cell_type": "markdown",
   "id": "81f9631c",
   "metadata": {},
   "source": [
    "### Baseline Linear Support Vector Classifier Model - Robust Scaled"
   ]
  },
  {
   "cell_type": "code",
   "execution_count": 15,
   "id": "79cfba7c",
   "metadata": {},
   "outputs": [
    {
     "name": "stdout",
     "output_type": "stream",
     "text": [
      "[LibLinear]The Model Results for  LinearSVC(loss='hinge', random_state=0, verbose=1)\n",
      "************************************************************\n",
      "Train Accuracy is equal to 0.516\n",
      "Test Accuracy is equal to 0.513\n",
      "The Precision score is 0.520\n",
      "The Average Precision score is 0.507\n",
      "The Recall score is 0.340\n",
      "The F1 score is 0.411\n",
      "The AUC/ROC score is 0.513\n",
      "True-Positive: 35201.000\n",
      "True-Negative: 71106.000\n",
      "False-Positive: 32519.000\n",
      "False-Negative: 68424.000\n",
      "Correctly Classified: 106307.000\n",
      "Incorrectly Classified: 100943.000\n"
     ]
    },
    {
     "data": {
      "text/plain": [
       "[0.5158691426444435,\n",
       " 0.512940892641737,\n",
       " 0.5198021264028352,\n",
       " 0.33969601930036186]"
      ]
     },
     "execution_count": 15,
     "metadata": {},
     "output_type": "execute_result"
    }
   ],
   "source": [
    "# SMOTE Balanced\n",
    "\n",
    "# svm_rb = LinearSVC(random_state=0,verbose=1)\n",
    "# model_results(trainX_SM, trainY_SM, testX_SM, testY_SM, svm_rb, show = True)"
   ]
  },
  {
   "cell_type": "code",
   "execution_count": 16,
   "id": "bdcb3e91",
   "metadata": {},
   "outputs": [
    {
     "name": "stdout",
     "output_type": "stream",
     "text": [
      "[LibLinear]The Model Results for  LinearSVC(loss='hinge', random_state=0, verbose=1)\n",
      "************************************************************\n",
      "Train Accuracy is equal to 0.504\n",
      "Test Accuracy is equal to 0.505\n",
      "The Precision score is 0.504\n",
      "The Average Precision score is 0.503\n",
      "The Recall score is 0.716\n",
      "The F1 score is 0.591\n",
      "The AUC/ROC score is 0.505\n",
      "True-Positive: 74240.000\n",
      "True-Negative: 30452.000\n",
      "False-Positive: 73173.000\n",
      "False-Negative: 29385.000\n",
      "Correctly Classified: 104692.000\n",
      "Incorrectly Classified: 102558.000\n"
     ]
    },
    {
     "data": {
      "text/plain": [
       "[0.5044522105959717,\n",
       " 0.5051483715319662,\n",
       " 0.5036190837985794,\n",
       " 0.7164294330518697]"
      ]
     },
     "execution_count": 16,
     "metadata": {},
     "output_type": "execute_result"
    }
   ],
   "source": [
    "# BorderlineSMOTE Balanced\n",
    "\n",
    "# svm_rb = LinearSVC(random_state=0,verbose=1)\n",
    "# model_results(trainX_BSM, trainY_BSM, testX_BSM, testY_BSM, svm_rb, show = True)"
   ]
  },
  {
   "cell_type": "markdown",
   "id": "b30c7da8",
   "metadata": {},
   "source": [
    "## Using RandomSearchCV to select best parameters (SM):"
   ]
  },
  {
   "cell_type": "code",
   "execution_count": 18,
   "id": "9d16edd0",
   "metadata": {},
   "outputs": [
    {
     "name": "stdout",
     "output_type": "stream",
     "text": [
      "[LibLinear]"
     ]
    },
    {
     "data": {
      "text/plain": [
       "RandomizedSearchCV(cv=5, estimator=LinearSVC(random_state=0, verbose=1),\n",
       "                   n_jobs=-1,\n",
       "                   param_distributions=[{'C': [0.0001, 0.01, 1, 100, 10000,\n",
       "                                               1000000, 100000000]}],\n",
       "                   return_train_score=True, scoring='f1_weighted')"
      ]
     },
     "execution_count": 18,
     "metadata": {},
     "output_type": "execute_result"
    }
   ],
   "source": [
    "# Setting x and y variables\n",
    "\n",
    "x1 = trainX_SM \n",
    "y1 = trainY_SM\n",
    "\n",
    "# Setting model required parameters\n",
    "\n",
    "svm_base_sm = LinearSVC(random_state=0,verbose=1)\n",
    "\n",
    "# Setting the parameter grid\n",
    "\n",
    "grid_para_svm = [{\n",
    "    \"C\": [0.0001, 0.01, 1, 100, 10000, 1000000, 100000000]}]\n",
    "\n",
    "# Running the RF model through the grid search\n",
    "\n",
    "grid_search_svm = RandomizedSearchCV(svm_base_sm, grid_para_svm,\\\n",
    "                                     cv=5, scoring='f1_weighted',\\\n",
    "                                     return_train_score = True, n_jobs=-1)\n",
    "\n",
    "grid_search_svm.fit(x1, y1)"
   ]
  },
  {
   "cell_type": "code",
   "execution_count": 19,
   "id": "af3f7962",
   "metadata": {},
   "outputs": [
    {
     "data": {
      "text/plain": [
       "{'C': 1}"
      ]
     },
     "execution_count": 19,
     "metadata": {},
     "output_type": "execute_result"
    }
   ],
   "source": [
    "# The best parameters\n",
    "\n",
    "grid_search_svm.best_params_"
   ]
  },
  {
   "cell_type": "code",
   "execution_count": 20,
   "id": "64ae47fc",
   "metadata": {},
   "outputs": [
    {
     "data": {
      "text/plain": [
       "0.4351845046284975"
      ]
     },
     "execution_count": 20,
     "metadata": {},
     "output_type": "execute_result"
    }
   ],
   "source": [
    "# The best score\n",
    "\n",
    "grid_search_svm.best_score_"
   ]
  },
  {
   "cell_type": "code",
   "execution_count": 22,
   "id": "5575b285",
   "metadata": {},
   "outputs": [
    {
     "name": "stdout",
     "output_type": "stream",
     "text": [
      "The training error is: 0.48413\n",
      "The test     error is: 0.48706\n"
     ]
    }
   ],
   "source": [
    "# Best estimator training/test errors\n",
    "\n",
    "print(\"The training error is: %.5f\" % (1 - grid_search_svm.best_estimator_.score(x1, y1)))\n",
    "print(\"The test     error is: %.5f\" % (1 - grid_search_svm.best_estimator_.score(testX_SM, testY_SM)))"
   ]
  },
  {
   "cell_type": "markdown",
   "id": "0e4c6ecd",
   "metadata": {},
   "source": [
    "## Using RandomSearchCV to select best parameters (BSM):"
   ]
  },
  {
   "cell_type": "code",
   "execution_count": null,
   "id": "583c636b",
   "metadata": {},
   "outputs": [],
   "source": [
    "# Setting x and y variables\n",
    "\n",
    "x2 = trainX_BSM \n",
    "y2 = trainY_BSM\n",
    "\n",
    "# Setting model required parameters\n",
    "\n",
    "svm_base_bsm = LinearSVC(random_state=0,verbose=1)\n",
    "\n",
    "# Setting the parameter grid\n",
    "\n",
    "grid_para_svm = [{\n",
    "    \"C\": [0.0001, 0.01, 1, 100, 10000, 1000000, 100000000]}]\n",
    "\n",
    "# Running the RF model through the grid search\n",
    "\n",
    "grid_search_svm = RandomizedSearchCV(svm_base_sm, grid_para_svm,\\\n",
    "                                     cv=5, scoring='f1_weighted',\\\n",
    "                                     return_train_score = True, n_jobs=-1)\n",
    "\n",
    "grid_search_svm.fit(x2, y2)"
   ]
  },
  {
   "cell_type": "code",
   "execution_count": null,
   "id": "aad64ccf",
   "metadata": {},
   "outputs": [],
   "source": [
    "# The best parameters\n",
    "\n",
    "grid_search_svm.best_params_"
   ]
  },
  {
   "cell_type": "code",
   "execution_count": null,
   "id": "251764de",
   "metadata": {},
   "outputs": [],
   "source": [
    "# The best score\n",
    "\n",
    "grid_search_svm.best_score_"
   ]
  },
  {
   "cell_type": "code",
   "execution_count": null,
   "id": "c2738219",
   "metadata": {},
   "outputs": [],
   "source": [
    "# Best estimator training/test errors\n",
    "\n",
    "print(\"The training error is: %.5f\" % (1 - grid_search_logit.best_estimator_.score(x2, y2)))\n",
    "print(\"The test     error is: %.5f\" % (1 - grid_search_logit.best_estimator_.score(testX_BSM, testY_BSM)))"
   ]
  },
  {
   "cell_type": "code",
   "execution_count": null,
   "id": "06abee40",
   "metadata": {},
   "outputs": [],
   "source": []
  },
  {
   "cell_type": "code",
   "execution_count": null,
   "id": "49f524a1",
   "metadata": {},
   "outputs": [],
   "source": [
    "from sklearn.kernel_approximation import Nystroem\n",
    "\n",
    "feature_map_nystroem = Nystroem(gamma=.2,random_state=1,n_components=300)\n",
    "\n",
    "trainX_SM_tr = feature_map_nystroem.fit_transform(trainX_SM)\n",
    "testX_SM_tr = feature_map_nystroem.fit_transform(testX_SM)\n",
    "trainX_BSM_tr = feature_map_nystroem.fit_transform(trainX_BSM)\n",
    "testX_BSM_tr = feature_map_nystroem.fit_transform(testX_BSM)"
   ]
  },
  {
   "cell_type": "code",
   "execution_count": null,
   "id": "1bc6ad36",
   "metadata": {},
   "outputs": [],
   "source": [
    "svm_rb = LinearSVC(random_state=0, verbose=1, C=1)\n",
    "model_results(trainX_SM_tr, trainY_SM, testX_SM_tr, testY_SM, svm_rb, show = True)"
   ]
  },
  {
   "cell_type": "code",
   "execution_count": null,
   "id": "896a2c49",
   "metadata": {},
   "outputs": [],
   "source": [
    "svm_rb = LinearSVC(random_state=0, verbose=1, C=)\n",
    "model_results(trainX_BSM_tr, trainY_BSM, testX_BSM_tr, testY_BSM, svm_rb, show = True)"
   ]
  },
  {
   "cell_type": "code",
   "execution_count": null,
   "id": "3b3d4b5c",
   "metadata": {},
   "outputs": [],
   "source": []
  }
 ],
 "metadata": {
  "kernelspec": {
   "display_name": "Python 3",
   "language": "python",
   "name": "python3"
  },
  "language_info": {
   "codemirror_mode": {
    "name": "ipython",
    "version": 3
   },
   "file_extension": ".py",
   "mimetype": "text/x-python",
   "name": "python",
   "nbconvert_exporter": "python",
   "pygments_lexer": "ipython3",
   "version": "3.8.8"
  }
 },
 "nbformat": 4,
 "nbformat_minor": 5
}
