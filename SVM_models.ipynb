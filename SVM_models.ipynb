{
 "cells": [
  {
   "cell_type": "markdown",
   "id": "d50954a8",
   "metadata": {},
   "source": [
    "# Capstone project - HealthCare Fraud Detection : Support Vector Machine Models"
   ]
  },
  {
   "cell_type": "code",
   "execution_count": 1,
   "id": "e9a9373a",
   "metadata": {},
   "outputs": [],
   "source": [
    "import pandas as pd\n",
    "import numpy as np\n",
    "import seaborn as sns\n",
    "import matplotlib.pyplot as plt\n",
    "from sklearn import preprocessing\n",
    "from sklearn import svm\n",
    "from sklearn.model_selection import train_test_split,\\\n",
    "StratifiedKFold, cross_val_score, RandomizedSearchCV\n",
    "from yellowbrick.classifier import confusion_matrix, classification_report, ROCAUC\n",
    "from yellowbrick.model_selection import CVScores\n",
    "from cp_clean_helper import show_values\n",
    "from LGR_helper import std_num_cols, rb_scale_cols, model_results, get_confusion_matrix\n",
    "plt.style.use('ggplot')\n",
    "import warnings\n",
    "warnings.filterwarnings(\"ignore\")\n",
    "pd.set_option('display.max_columns', 100)"
   ]
  },
  {
   "cell_type": "markdown",
   "id": "4d7b2b0e",
   "metadata": {},
   "source": [
    "### # Loading datasets, and looking at shapes:-"
   ]
  },
  {
   "cell_type": "code",
   "execution_count": 2,
   "id": "4fb43038",
   "metadata": {},
   "outputs": [
    {
     "name": "stdout",
     "output_type": "stream",
     "text": [
      "\n",
      "\n",
      "Shape of SMOTE balanced trainX data : (483580, 44)\n",
      "Shape of SMOTE balanced trainY data : (483580, 1)\n",
      "Shape of SMOTE balanced testX data : (207250, 44)\n",
      "Shape of SMOTE balanced testY data : (207250, 1)\n",
      "Shape of Borderline SMOTE balanced trainX data : (483580, 44)\n",
      "Shape of Borderline SMOTE balanced trainY data : (483580, 1)\n",
      "Shape of Borderline SMOTE balanced testX data : (207250, 44)\n",
      "Shape of Borderline SMOTE balanced testY data : (207250, 1)\n",
      "\n",
      "\n",
      "************************************************************\n",
      "\n",
      "\n",
      "Class ratio - Fraud/Non-Fraud (trainY_SM) : PotentialFraud\n",
      "0                 50.0\n",
      "1                 50.0\n",
      "dtype: float64\n",
      "Class ratio - Fraud/Non-Fraud (testY_SM) : PotentialFraud\n",
      "0                 50.0\n",
      "1                 50.0\n",
      "dtype: float64\n",
      "Class ratio - Fraud/Non-Fraud (trainY_BSM) : PotentialFraud\n",
      "0                 50.0\n",
      "1                 50.0\n",
      "dtype: float64\n",
      "Class ratio - Fraud/Non-Fraud (testY_BSM) : PotentialFraud\n",
      "0                 50.0\n",
      "1                 50.0\n",
      "dtype: float64\n",
      "\n",
      "\n",
      "************************************************************\n"
     ]
    }
   ],
   "source": [
    "# Loading train-test 70:30 split (SMOTE and BorderlineSMOTE) datasets\n",
    "# For these same columns have been drooped as done for the LGR model\n",
    "\n",
    "trainX_SM = pd.read_csv(\"trainX_SM.csv\",index_col=0)\n",
    "trainY_SM = pd.read_csv(\"trainY_SM.csv\",index_col=0)\n",
    "testX_SM = pd.read_csv(\"testX_SM.csv\",index_col=0)\n",
    "testY_SM = pd.read_csv(\"testY_SM.csv\",index_col=0)\n",
    "\n",
    "trainX_BSM = pd.read_csv(\"trainX_BSM.csv\",index_col=0)\n",
    "trainY_BSM = pd.read_csv(\"trainY_BSM.csv\",index_col=0)\n",
    "testX_BSM = pd.read_csv(\"testX_BSM.csv\",index_col=0)\n",
    "testY_BSM = pd.read_csv(\"testY_BSM.csv\",index_col=0)\n",
    "\n",
    "# Looking at dataset shapes\n",
    "\n",
    "print('\\n')\n",
    "print('Shape of SMOTE balanced trainX data :',trainX_SM.shape)\n",
    "print('Shape of SMOTE balanced trainY data :',trainY_SM.shape)\n",
    "print('Shape of SMOTE balanced testX data :',testX_SM.shape)\n",
    "print('Shape of SMOTE balanced testY data :',testY_SM.shape)\n",
    "print('Shape of Borderline SMOTE balanced trainX data :',trainX_BSM.shape)\n",
    "print('Shape of Borderline SMOTE balanced trainY data :',trainY_BSM.shape)\n",
    "print('Shape of Borderline SMOTE balanced testX data :',testX_BSM.shape)\n",
    "print('Shape of Borderline SMOTE balanced testY data :',testY_BSM.shape, end='\\n')\n",
    "print('\\n')\n",
    "print(\"*\"*60)\n",
    "\n",
    "# Looking at class ratios\n",
    "\n",
    "print('\\n')\n",
    "print('Class ratio - Fraud/Non-Fraud (trainY_SM) :',trainY_SM.value_counts(normalize=True)*100)\n",
    "print('Class ratio - Fraud/Non-Fraud (testY_SM) :',testY_SM.value_counts(normalize=True)*100)\n",
    "print('Class ratio - Fraud/Non-Fraud (trainY_BSM) :',trainY_BSM.value_counts(normalize=True)*100)\n",
    "print('Class ratio - Fraud/Non-Fraud (testY_BSM) :',testY_BSM.value_counts(normalize=True)*100, end='\\n')\n",
    "print('\\n')\n",
    "print(\"*\"*60)"
   ]
  },
  {
   "cell_type": "markdown",
   "id": "825850ca",
   "metadata": {},
   "source": [
    "### # Standardizing the train/test features for balanced datasets:"
   ]
  },
  {
   "cell_type": "code",
   "execution_count": 3,
   "id": "60650969",
   "metadata": {},
   "outputs": [],
   "source": [
    "# SMOTE balanced dataset\n",
    "\n",
    "std_num_cols(trainX_SM)\n",
    "std_num_cols(testX_SM)\n",
    "\n",
    "# BorderlineSMOTE balanced dataset\n",
    "\n",
    "std_num_cols(trainX_BSM)\n",
    "std_num_cols(testX_BSM)"
   ]
  },
  {
   "cell_type": "markdown",
   "id": "96c5b472",
   "metadata": {},
   "source": [
    "### Baseline Random Forest Model - Standardized"
   ]
  },
  {
   "cell_type": "code",
   "execution_count": null,
   "id": "d232b592",
   "metadata": {},
   "outputs": [
    {
     "name": "stdout",
     "output_type": "stream",
     "text": [
      "[LibSVM]"
     ]
    }
   ],
   "source": [
    "# SMOTE Balanced\n",
    "\n",
    "svm_std = svm.SVC(random_state=0, verbose=1)\n",
    "model_results(trainX_SM, trainY_SM, testX_SM, testY_SM, svm_std, show = True)"
   ]
  },
  {
   "cell_type": "code",
   "execution_count": null,
   "id": "04202c7e",
   "metadata": {},
   "outputs": [],
   "source": [
    "# BorderlineSMOTE Balanced\n",
    "\n",
    "svm_std = svm.SVC(random_state=0, verbose=1)\n",
    "model_results(trainX_BSM, trainY_BSM, testX_BSM, testY_BSM, svm_std, show = True)"
   ]
  },
  {
   "cell_type": "markdown",
   "id": "734ea039",
   "metadata": {},
   "source": [
    "### # Robust Scaling the train/test features for  balanced datasets:"
   ]
  },
  {
   "cell_type": "code",
   "execution_count": null,
   "id": "e804595f",
   "metadata": {},
   "outputs": [],
   "source": [
    "# SMOTE balanced dataset\n",
    "\n",
    "# rb_scale_cols(trainX_SM)\n",
    "# rb_scale_cols(testX_SM)\n",
    "\n",
    "# BorderlineSMOTE balanced dataset\n",
    "\n",
    "# rb_scale_cols(trainX_BSM)\n",
    "# rb_scale_cols(testX_BSM)"
   ]
  },
  {
   "cell_type": "markdown",
   "id": "81f9631c",
   "metadata": {},
   "source": [
    "### Baseline Random Forest Model - Robust Scaled"
   ]
  },
  {
   "cell_type": "code",
   "execution_count": null,
   "id": "79cfba7c",
   "metadata": {},
   "outputs": [],
   "source": [
    "# SMOTE Balanced\n",
    "\n",
    "# svm_rb = svm.SVC(random_state=0,verbose=1)\n",
    "# model_results(trainX_SM, trainY_SM, testX_SM, testY_SM, svm_rb, show = True)"
   ]
  },
  {
   "cell_type": "code",
   "execution_count": null,
   "id": "bdcb3e91",
   "metadata": {},
   "outputs": [],
   "source": [
    "# BorderlineSMOTE Balanced\n",
    "\n",
    "# svm_rb = svm.SVC(random_state=0,verbose=1)\n",
    "# model_results(trainX_BSM, trainY_BSM, testX_BSM, testY_BSM, svm_rb, show = True)"
   ]
  }
 ],
 "metadata": {
  "kernelspec": {
   "display_name": "Python 3",
   "language": "python",
   "name": "python3"
  },
  "language_info": {
   "codemirror_mode": {
    "name": "ipython",
    "version": 3
   },
   "file_extension": ".py",
   "mimetype": "text/x-python",
   "name": "python",
   "nbconvert_exporter": "python",
   "pygments_lexer": "ipython3",
   "version": "3.8.8"
  }
 },
 "nbformat": 4,
 "nbformat_minor": 5
}
