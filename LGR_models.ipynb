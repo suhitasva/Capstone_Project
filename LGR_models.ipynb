{
 "cells": [
  {
   "cell_type": "markdown",
   "id": "894b1d4f",
   "metadata": {},
   "source": [
    "# Capstone project - HealthCare Fraud Detection : Logistic Regression"
   ]
  },
  {
   "cell_type": "code",
   "execution_count": null,
   "id": "5bd280cc",
   "metadata": {},
   "outputs": [],
   "source": [
    "import pandas as pd\n",
    "import numpy as np\n",
    "import seaborn as sns\n",
    "import matplotlib.pyplot as plt\n",
    "from cp_clean_helper import show_values\n",
    "plt.style.use('ggplot')\n",
    "import warnings\n",
    "warnings.filterwarnings(\"ignore\")\n",
    "pd.set_option('display.max_columns', 100)"
   ]
  },
  {
   "cell_type": "markdown",
   "id": "fb38d836",
   "metadata": {},
   "source": [
    "### # Loading datasets and looking at shapes:-"
   ]
  },
  {
   "cell_type": "code",
   "execution_count": null,
   "id": "9cd56eed",
   "metadata": {},
   "outputs": [],
   "source": [
    "# Loading datasets\n",
    "\n",
    "train_df = pd.read_csv(\"clean_train.csv\",index_col=0)\n",
    "test_df = pd.read_csv(\"clean_test.csv\",index_col=0)\n",
    "\n",
    "# Looking at dataset shapes\n",
    "\n",
    "print('Shape of train data :',train_df.shape)\n",
    "print('Shape of test data :',test_df.shape)"
   ]
  },
  {
   "cell_type": "markdown",
   "id": "b88116e5",
   "metadata": {},
   "source": [
    "### # Looking at first few rows for each:"
   ]
  },
  {
   "cell_type": "code",
   "execution_count": null,
   "id": "00e11a74",
   "metadata": {},
   "outputs": [],
   "source": [
    "train_df.head(5)"
   ]
  },
  {
   "cell_type": "code",
   "execution_count": null,
   "id": "2a7b3db3",
   "metadata": {},
   "outputs": [],
   "source": [
    "test_df.head(5)"
   ]
  }
 ],
 "metadata": {
  "kernelspec": {
   "display_name": "Python 3",
   "language": "python",
   "name": "python3"
  },
  "language_info": {
   "codemirror_mode": {
    "name": "ipython",
    "version": 3
   },
   "file_extension": ".py",
   "mimetype": "text/x-python",
   "name": "python",
   "nbconvert_exporter": "python",
   "pygments_lexer": "ipython3",
   "version": "3.8.8"
  }
 },
 "nbformat": 4,
 "nbformat_minor": 5
}
