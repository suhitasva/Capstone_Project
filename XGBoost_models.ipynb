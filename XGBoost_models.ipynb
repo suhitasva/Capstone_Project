{
 "cells": [
  {
   "cell_type": "markdown",
   "id": "6b420b43",
   "metadata": {},
   "source": [
    "# Capstone project - HealthCare Fraud Detection : XGBoost Models"
   ]
  },
  {
   "cell_type": "code",
   "execution_count": null,
   "id": "52fd7503",
   "metadata": {},
   "outputs": [],
   "source": [
    "import pandas as pd\n",
    "import numpy as np\n",
    "import seaborn as sns\n",
    "import matplotlib.pyplot as plt\n",
    "from sklearnex import patch_sklearn \n",
    "patch_sklearn()\n",
    "from sklearn import preprocessing\n",
    "from xgboost import XGBClassifier\n",
    "from sklearn.model_selection import train_test_split,\\\n",
    "StratifiedKFold, cross_val_score, RandomizedSearchCV\n",
    "from sklearn.metrics import confusion_matrix, plot_roc_curve,roc_auc_score,f1_score\n",
    "from sklearn.feature_selection import RFE\n",
    "from yellowbrick.classifier import confusion_matrix, classification_report, ROCAUC\n",
    "from yellowbrick.model_selection import CVScores\n",
    "from cp_clean_helper import show_values\n",
    "from LGR_helper import std_num_cols, rb_scale_cols, model_results, get_confusion_matrix\n",
    "plt.style.use('ggplot')\n",
    "import warnings\n",
    "warnings.filterwarnings(\"ignore\")\n",
    "pd.set_option('display.max_columns', 100)"
   ]
  }
 ],
 "metadata": {
  "kernelspec": {
   "display_name": "Python 3",
   "language": "python",
   "name": "python3"
  },
  "language_info": {
   "codemirror_mode": {
    "name": "ipython",
    "version": 3
   },
   "file_extension": ".py",
   "mimetype": "text/x-python",
   "name": "python",
   "nbconvert_exporter": "python",
   "pygments_lexer": "ipython3",
   "version": "3.8.8"
  }
 },
 "nbformat": 4,
 "nbformat_minor": 5
}
