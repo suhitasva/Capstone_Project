{
 "cells": [
  {
   "cell_type": "markdown",
   "id": "e37abf06",
   "metadata": {},
   "source": [
    "# Capstone project - HealthCare Fraud Detection : Random Forest Models"
   ]
  },
  {
   "cell_type": "code",
   "execution_count": 1,
   "id": "ca17a4a6",
   "metadata": {},
   "outputs": [],
   "source": [
    "import pandas as pd\n",
    "import numpy as np\n",
    "import seaborn as sns\n",
    "import matplotlib.pyplot as plt\n",
    "from sklearn import preprocessing\n",
    "from sklearn.model_selection import train_test_split,\\\n",
    "StratifiedKFold, cross_val_score, GridSearchCV,RandomizedSearchCV\n",
    "from sklearn.ensemble import RandomForestClassifier\n",
    "from sklearn.metrics import confusion_matrix, plot_roc_curve,roc_auc_score,f1_score\n",
    "from sklearn.metrics import classification_report as cl_rep_skl\n",
    "from yellowbrick.classifier import confusion_matrix, classification_report, ROCAUC\n",
    "from yellowbrick.model_selection import CVScores\n",
    "from cp_clean_helper import show_values\n",
    "from LGR_helper import std_num_cols, rb_scale_cols, model_results, get_confusion_matrix\n",
    "from sklearn import tree\n",
    "import graphviz as gv\n",
    "from IPython.display import display\n",
    "from IPython.display import SVG\n",
    "plt.style.use('ggplot')\n",
    "import warnings\n",
    "warnings.filterwarnings(\"ignore\")\n",
    "pd.set_option('display.max_columns', 100)"
   ]
  },
  {
   "cell_type": "markdown",
   "id": "89d9ad0f",
   "metadata": {},
   "source": [
    "### # Loading datasets, and looking at shapes:-"
   ]
  },
  {
   "cell_type": "code",
   "execution_count": 2,
   "id": "6f54ffd8",
   "metadata": {},
   "outputs": [
    {
     "name": "stdout",
     "output_type": "stream",
     "text": [
      "\n",
      "\n",
      "Shape of SMOTE balanced trainX data : (483580, 44)\n",
      "Shape of SMOTE balanced trainY data : (483580, 1)\n",
      "Shape of SMOTE balanced testX data : (207250, 44)\n",
      "Shape of SMOTE balanced testY data : (207250, 1)\n",
      "Shape of Borderline SMOTE balanced trainX data : (483580, 44)\n",
      "Shape of Borderline SMOTE balanced trainY data : (483580, 1)\n",
      "Shape of Borderline SMOTE balanced testX data : (207250, 44)\n",
      "Shape of Borderline SMOTE balanced testY data : (207250, 1)\n",
      "\n",
      "\n",
      "************************************************************\n",
      "\n",
      "\n",
      "Class ratio - Fraud/Non-Fraud (trainY_SM) : PotentialFraud\n",
      "0                 50.0\n",
      "1                 50.0\n",
      "dtype: float64\n",
      "Class ratio - Fraud/Non-Fraud (testY_SM) : PotentialFraud\n",
      "0                 50.0\n",
      "1                 50.0\n",
      "dtype: float64\n",
      "Class ratio - Fraud/Non-Fraud (trainY_BSM) : PotentialFraud\n",
      "0                 50.0\n",
      "1                 50.0\n",
      "dtype: float64\n",
      "Class ratio - Fraud/Non-Fraud (testY_BSM) : PotentialFraud\n",
      "0                 50.0\n",
      "1                 50.0\n",
      "dtype: float64\n",
      "\n",
      "\n",
      "************************************************************\n"
     ]
    }
   ],
   "source": [
    "# Loading train-test 70:30 split (SMOTE and BorderlineSMOTE) datasets\n",
    "# For these same columns have been drooped as done for the LGR model\n",
    "\n",
    "trainX_SM = pd.read_csv(\"trainX_SM.csv\",index_col=0)\n",
    "trainY_SM = pd.read_csv(\"trainY_SM.csv\",index_col=0)\n",
    "testX_SM = pd.read_csv(\"testX_SM.csv\",index_col=0)\n",
    "testY_SM = pd.read_csv(\"testY_SM.csv\",index_col=0)\n",
    "\n",
    "trainX_BSM = pd.read_csv(\"trainX_BSM.csv\",index_col=0)\n",
    "trainY_BSM = pd.read_csv(\"trainY_BSM.csv\",index_col=0)\n",
    "testX_BSM = pd.read_csv(\"testX_BSM.csv\",index_col=0)\n",
    "testY_BSM = pd.read_csv(\"testY_BSM.csv\",index_col=0)\n",
    "\n",
    "# Looking at dataset shapes\n",
    "\n",
    "print('\\n')\n",
    "print('Shape of SMOTE balanced trainX data :',trainX_SM.shape)\n",
    "print('Shape of SMOTE balanced trainY data :',trainY_SM.shape)\n",
    "print('Shape of SMOTE balanced testX data :',testX_SM.shape)\n",
    "print('Shape of SMOTE balanced testY data :',testY_SM.shape)\n",
    "print('Shape of Borderline SMOTE balanced trainX data :',trainX_BSM.shape)\n",
    "print('Shape of Borderline SMOTE balanced trainY data :',trainY_BSM.shape)\n",
    "print('Shape of Borderline SMOTE balanced testX data :',testX_BSM.shape)\n",
    "print('Shape of Borderline SMOTE balanced testY data :',testY_BSM.shape, end='\\n')\n",
    "print('\\n')\n",
    "print(\"*\"*60)\n",
    "\n",
    "# Looking at class ratios\n",
    "\n",
    "print('\\n')\n",
    "print('Class ratio - Fraud/Non-Fraud (trainY_SM) :',trainY_SM.value_counts(normalize=True)*100)\n",
    "print('Class ratio - Fraud/Non-Fraud (testY_SM) :',testY_SM.value_counts(normalize=True)*100)\n",
    "print('Class ratio - Fraud/Non-Fraud (trainY_BSM) :',trainY_BSM.value_counts(normalize=True)*100)\n",
    "print('Class ratio - Fraud/Non-Fraud (testY_BSM) :',testY_BSM.value_counts(normalize=True)*100, end='\\n')\n",
    "print('\\n')\n",
    "print(\"*\"*60)"
   ]
  },
  {
   "cell_type": "markdown",
   "id": "5dd1723a",
   "metadata": {},
   "source": [
    "### # Standardizing the train/test features for balanced datasets:"
   ]
  },
  {
   "cell_type": "code",
   "execution_count": 3,
   "id": "7b98ba66",
   "metadata": {},
   "outputs": [],
   "source": [
    "# SMOTE balanced dataset\n",
    "\n",
    "# std_num_cols(trainX_SM)\n",
    "# std_num_cols(testX_SM)\n",
    "\n",
    "# BorderlineSMOTE balanced dataset\n",
    "\n",
    "# std_num_cols(trainX_BSM)\n",
    "# std_num_cols(testX_BSM)"
   ]
  },
  {
   "cell_type": "markdown",
   "id": "e21a8edd",
   "metadata": {},
   "source": [
    "### Baseline Random Forest Model - Standardized"
   ]
  },
  {
   "cell_type": "code",
   "execution_count": 4,
   "id": "4ae89a8f",
   "metadata": {},
   "outputs": [],
   "source": [
    "# SMOTE Balanced\n",
    "\n",
    "# rf_std = RandomForestClassifier(random_state=0, oob_score=True)\n",
    "# model_results(trainX_SM, trainY_SM, testX_SM, testY_SM, rf_std, show = True)\n",
    "\n",
    "# Out of bag error:\n",
    "\n",
    "# rf_std.oob_score_"
   ]
  },
  {
   "cell_type": "code",
   "execution_count": 5,
   "id": "aa20e572",
   "metadata": {},
   "outputs": [],
   "source": [
    "# BorderlineSMOTE Balanced\n",
    "\n",
    "# rf_std = RandomForestClassifier(random_state=0, oob_score=True)\n",
    "# model_results(trainX_BSM, trainY_BSM, testX_BSM, testY_BSM, rf_std, show = True)\n",
    "\n",
    "# Out of bag error:\n",
    "\n",
    "# rf_std.oob_score_"
   ]
  },
  {
   "cell_type": "markdown",
   "id": "61941ee2",
   "metadata": {},
   "source": [
    "### # Robust Scaling the train/test features for  balanced datasets:"
   ]
  },
  {
   "cell_type": "code",
   "execution_count": 6,
   "id": "e4a4a926",
   "metadata": {},
   "outputs": [],
   "source": [
    "# SMOTE balanced dataset\n",
    "\n",
    "rb_scale_cols(trainX_SM)\n",
    "rb_scale_cols(testX_SM)\n",
    "\n",
    "# BorderlineSMOTE balanced dataset\n",
    "\n",
    "rb_scale_cols(trainX_BSM)\n",
    "rb_scale_cols(testX_BSM)"
   ]
  },
  {
   "cell_type": "markdown",
   "id": "93d0dd94",
   "metadata": {},
   "source": [
    "### Baseline Random Forest Model - Robust Scaled"
   ]
  },
  {
   "cell_type": "code",
   "execution_count": 7,
   "id": "cd1bf7fd",
   "metadata": {},
   "outputs": [],
   "source": [
    "# SMOTE Balanced\n",
    "\n",
    "# rf_rb = RandomForestClassifier(random_state=0, oob_score=True)\n",
    "# model_results(trainX_SM, trainY_SM, testX_SM, testY_SM, rf_rb,show = True)\n",
    "\n",
    "# Out of bag error:\n",
    "\n",
    "# rf_rb.oob_score_"
   ]
  },
  {
   "cell_type": "code",
   "execution_count": 8,
   "id": "e9c4d7e6",
   "metadata": {},
   "outputs": [],
   "source": [
    "# BorderlineSMOTE Balanced\n",
    "\n",
    "# rf_rb = RandomForestClassifier(random_state=0, oob_score=True)\n",
    "# model_results(trainX_BSM, trainY_BSM, testX_BSM, testY_BSM, rf_rb, show = True)"
   ]
  },
  {
   "cell_type": "code",
   "execution_count": 9,
   "id": "7cb51e06",
   "metadata": {},
   "outputs": [],
   "source": [
    "# Out of bag error:\n",
    "\n",
    "# rf_rb.oob_score_"
   ]
  },
  {
   "cell_type": "markdown",
   "id": "0960d64a",
   "metadata": {},
   "source": [
    "- Scaling and different upsampling types does not make much difference, so we will go with datasets with BorderlineSmote upsampling and preprocessed using robust scaler as the first base model."
   ]
  },
  {
   "cell_type": "code",
   "execution_count": 10,
   "id": "65dac45f",
   "metadata": {},
   "outputs": [],
   "source": [
    "# Visualizing the confusion matrix with Yellowbricks (thres=0.5)\n",
    "\n",
    "# plt.figure(figsize = (10,10))\n",
    "# confusion_matrix(\n",
    "#     rf_rb,\n",
    "#     trainX_BSM, trainY_BSM, testX_BSM, testY_BSM,\n",
    "#     classes=['Non-Fraud', 'Possibly-Fraud'])"
   ]
  },
  {
   "cell_type": "code",
   "execution_count": 11,
   "id": "15cd4920",
   "metadata": {},
   "outputs": [],
   "source": [
    "# Visualizing the AUC/ROC curve with Yellowbricks\n",
    "\n",
    "# plt.figure(figsize = (14,12))\n",
    "# sns.set_style(\"whitegrid\")\n",
    "\n",
    "# visualizer = ROCAUC(rf_rb, classes=['Non-Fraud', 'Possibly-Fraud'])\n",
    "\n",
    "# visualizer.fit(trainX_BSM, trainY_BSM)        # Fit the training data to the visualizer\n",
    "# visualizer.score(testX_BSM, testY_BSM)        # Evaluate the model on the test data\n",
    "# visualizer.show()                           # Finalize and render the figure"
   ]
  },
  {
   "cell_type": "code",
   "execution_count": 12,
   "id": "c592e0d0",
   "metadata": {},
   "outputs": [],
   "source": [
    "# Visualizing the classification report with Yellowbricks\n",
    "\n",
    "# plt.figure(figsize = (12,6))\n",
    "# sns.set_style(\"whitegrid\")\n",
    "\n",
    "# visualizer = classification_report(\n",
    "#     rf_rb,\n",
    "#     trainX_SM, trainY_SM, testX_SM, testY_SM,\n",
    "#     classes=['Non-Fraud', 'Possibly-Fraud'],\n",
    "#     cmap='YlGnBu',\n",
    "#     support=True)"
   ]
  },
  {
   "cell_type": "markdown",
   "id": "f4b09421",
   "metadata": {},
   "source": [
    "### # Plotting scores for different number of trees in the random forest (BSM):"
   ]
  },
  {
   "cell_type": "code",
   "execution_count": 13,
   "id": "d414fde1",
   "metadata": {},
   "outputs": [],
   "source": [
    "# trees_range = range(80, 180, 20)\n",
    "# train_error = []\n",
    "# test_error = []\n",
    "# oob_error = []\n",
    "# train_AUC = []\n",
    "# test_AUC = []\n",
    "# train_F1 = []\n",
    "# test_F1 = []\n",
    "\n",
    "# for n_trees in trees_range:\n",
    "#     rf = RandomForestClassifier(random_state=0, oob_score=True)\n",
    "#     rf.set_params(n_estimators=n_trees)\n",
    "#     rf.fit(trainX_BSM, trainY_BSM)\n",
    "#     train_error.append(1 - rf.score(trainX_BSM, trainY_BSM))\n",
    "#     test_error.append(1 - rf.score(testX_BSM, testY_BSM))\n",
    "#     oob_error.append(1 - rf.oob_score_)  \n",
    "#     train_AUC.append(roc_auc_score(trainY_BSM, rf.predict(trainX_BSM)))\n",
    "#     test_AUC.append(roc_auc_score(testY_BSM, rf.predict(testX_BSM)))\n",
    "#     train_F1.append(f1_score(trainY_BSM, rf.predict(trainX_BSM)))\n",
    "#     test_F1.append(f1_score(testY_BSM, rf.predict(testX_BSM)))"
   ]
  },
  {
   "cell_type": "code",
   "execution_count": 14,
   "id": "3837a02f",
   "metadata": {},
   "outputs": [],
   "source": [
    "# plt.plot(trees_range, train_error, c='red', label='Training Error')\n",
    "# plt.plot(trees_range, test_error, c='blue', label='Test Error')\n",
    "# plt.plot(trees_range, oob_error, c='green', label='OOB Error')\n",
    "# plt.ylabel('Errors')\n",
    "# plt.xlabel('Number of trees')\n",
    "# plt.legend()\n",
    "# plt.show()"
   ]
  },
  {
   "cell_type": "code",
   "execution_count": 15,
   "id": "22ef7243",
   "metadata": {},
   "outputs": [],
   "source": [
    "# plt.plot(trees_range, train_AUC, c='red', label='Training AUC Score')\n",
    "# plt.plot(trees_range, test_AUC, c='blue', label='Test AUC Score')\n",
    "# plt.ylabel('AUC Scores')\n",
    "# plt.xlabel('Number of trees')\n",
    "# plt.legend()\n",
    "# plt.show()"
   ]
  },
  {
   "cell_type": "code",
   "execution_count": 16,
   "id": "61f62b7c",
   "metadata": {},
   "outputs": [],
   "source": [
    "# plt.plot(trees_range, train_F1, c='red', label='Training F1 Score')\n",
    "# plt.plot(trees_range, test_F1, c='blue', label='Test F1 Score')\n",
    "# plt.ylabel('F1 Scores')\n",
    "# plt.xlabel('Number of trees')\n",
    "# plt.legend()\n",
    "# plt.show()"
   ]
  },
  {
   "cell_type": "markdown",
   "id": "225455d8",
   "metadata": {},
   "source": [
    "### # Plotting scores for different number of trees in the random forest (SM):"
   ]
  },
  {
   "cell_type": "code",
   "execution_count": 17,
   "id": "6b066a80",
   "metadata": {},
   "outputs": [],
   "source": [
    "# trees_range = range(80, 180, 10)\n",
    "# train_error = []\n",
    "# test_error = []\n",
    "# oob_error = []\n",
    "# train_AUC = []\n",
    "# test_AUC = []\n",
    "# train_F1 = []\n",
    "# test_F1 = []\n",
    "\n",
    "# for n_trees in trees_range:\n",
    "#     rf = RandomForestClassifier(random_state=0, oob_score=True)\n",
    "#     rf.set_params(n_estimators=n_trees)\n",
    "#     rf.fit(trainX_SM, trainY_SM)\n",
    "#     train_error.append(1 - rf.score(trainX_SM, trainY_SM))\n",
    "#     test_error.append(1 - rf.score(testX_SM, testY_SM))\n",
    "#     oob_error.append(1 - rf.oob_score_)  \n",
    "#     train_AUC.append(roc_auc_score(trainY_SM, rf.predict(trainX_SM)))\n",
    "#     test_AUC.append(roc_auc_score(testY_SM, rf.predict(testX_SM)))\n",
    "#     train_F1.append(f1_score(trainY_SM, rf.predict(trainX_SM)))\n",
    "#     test_F1.append(f1_score(testY_SM, rf.predict(testX_SM)))"
   ]
  },
  {
   "cell_type": "code",
   "execution_count": 18,
   "id": "74159216",
   "metadata": {},
   "outputs": [],
   "source": [
    "# plt.plot(trees_range, train_error, c='red', label='Training Error')\n",
    "# plt.plot(trees_range, test_error, c='blue', label='Test Error')\n",
    "# plt.plot(trees_range, oob_error, c='green', label='OOB Error')\n",
    "# plt.ylabel('Errors')\n",
    "# plt.xlabel('Number of trees')\n",
    "# plt.legend()\n",
    "# plt.show()"
   ]
  },
  {
   "cell_type": "code",
   "execution_count": 19,
   "id": "8d6292bc",
   "metadata": {},
   "outputs": [],
   "source": [
    "# plt.plot(trees_range, train_AUC, c='red', label='Training AUC Score')\n",
    "# plt.plot(trees_range, test_AUC, c='blue', label='Test AUC Score')\n",
    "# plt.ylabel('AUC Scores')\n",
    "# plt.xlabel('Number of trees')\n",
    "# plt.legend()\n",
    "# plt.show()"
   ]
  },
  {
   "cell_type": "code",
   "execution_count": 20,
   "id": "a3943116",
   "metadata": {},
   "outputs": [],
   "source": [
    "# plt.plot(trees_range, train_F1, c='red', label='Training F1 Score')\n",
    "# plt.plot(trees_range, test_F1, c='blue', label='Test F1 Score')\n",
    "# plt.ylabel('F1 Scores')\n",
    "# plt.xlabel('Number of trees')\n",
    "# plt.legend()\n",
    "# plt.show()"
   ]
  },
  {
   "cell_type": "markdown",
   "id": "155128b0",
   "metadata": {},
   "source": [
    "### # Plotting scores for different tree depths in the random forest:"
   ]
  },
  {
   "cell_type": "code",
   "execution_count": 21,
   "id": "0ac77d56",
   "metadata": {},
   "outputs": [],
   "source": [
    "# depth_range = range(5, 20, 5)\n",
    "# train_error = []\n",
    "# test_error = []\n",
    "# oob_error = []\n",
    "# train_AUC = []\n",
    "# test_AUC = []\n",
    "# train_F1 = []\n",
    "# test_F1 = []\n",
    "\n",
    "# for max_depth in depth_range:\n",
    "#     rf = RandomForestClassifier(random_state=0, oob_score=True)\n",
    "#     rf.set_params(max_depth=max_depth)\n",
    "#     rf.fit(trainX_BSM, trainY_BSM)\n",
    "#     train_error.append(1 - rf.score(trainX_BSM, trainY_BSM))\n",
    "#     test_error.append(1 - rf.score(testX_BSM, testY_BSM))\n",
    "#     oob_error.append(1 - rf.oob_score_)  \n",
    "#     train_AUC.append(roc_auc_score(trainY_BSM, rf.predict(trainX_BSM)))\n",
    "#     test_AUC.append(roc_auc_score(testY_BSM, rf.predict(testX_BSM)))\n",
    "#     train_F1.append(f1_score(trainY_BSM, rf.predict(trainX_BSM)))\n",
    "#     test_F1.append(f1_score(testY_BSM, rf.predict(testX_BSM)))"
   ]
  },
  {
   "cell_type": "code",
   "execution_count": 22,
   "id": "7941ef37",
   "metadata": {},
   "outputs": [],
   "source": [
    "# plt.plot(depth_range, train_error, c='red', label='Training Error')\n",
    "# plt.plot(depth_range, test_error, c='blue', label='Test Error')\n",
    "# plt.plot(depth_range, oob_error, c='green', label='OOB Error')\n",
    "# plt.ylabel('Errors')\n",
    "# plt.xlabel('Depth of trees')\n",
    "# plt.legend()\n",
    "# plt.show()"
   ]
  },
  {
   "cell_type": "code",
   "execution_count": 23,
   "id": "e963575d",
   "metadata": {},
   "outputs": [],
   "source": [
    "# plt.plot(depth_range, train_AUC, c='red', label='Training AUC Score')\n",
    "# plt.plot(depth_range, test_AUC, c='blue', label='Test AUC Score')\n",
    "# plt.ylabel('AUC Scores')\n",
    "# plt.xlabel('Depth of trees')\n",
    "# plt.legend()\n",
    "# plt.show()"
   ]
  },
  {
   "cell_type": "code",
   "execution_count": 24,
   "id": "b22141fd",
   "metadata": {},
   "outputs": [],
   "source": [
    "# plt.plot(depth_range, train_F1, c='red', label='Training F1 Score')\n",
    "# plt.plot(depth_range, test_F1, c='blue', label='Test F1 Score')\n",
    "# plt.ylabel('F1 Scores')\n",
    "# plt.xlabel('Depth of trees')\n",
    "# plt.legend()\n",
    "# plt.show()"
   ]
  },
  {
   "cell_type": "code",
   "execution_count": 25,
   "id": "992d60fa",
   "metadata": {},
   "outputs": [],
   "source": [
    "# depth_range = range(5, 20, 5)\n",
    "# train_error = []\n",
    "# test_error = []\n",
    "# oob_error = []\n",
    "# train_AUC = []\n",
    "# test_AUC = []\n",
    "# train_F1 = []\n",
    "# test_F1 = []\n",
    "\n",
    "# for max_depth in depth_range:\n",
    "#     rf = RandomForestClassifier(random_state=0, oob_score=True)\n",
    "#     rf.set_params(max_depth=max_depth)\n",
    "#     rf.fit(trainX_BSM, trainY_BSM)\n",
    "#     train_error.append(1 - rf.score(trainX_SM, trainY_SM))\n",
    "#     test_error.append(1 - rf.score(testX_SM, testY_SM))\n",
    "#     oob_error.append(1 - rf.oob_score_)  \n",
    "#     train_AUC.append(roc_auc_score(trainY_SM, rf.predict(trainX_SM)))\n",
    "#     test_AUC.append(roc_auc_score(testY_SM, rf.predict(testX_SM)))\n",
    "#     train_F1.append(f1_score(trainY_SM, rf.predict(trainX_SM)))\n",
    "#     test_F1.append(f1_score(testY_SM, rf.predict(testX_SM)))"
   ]
  },
  {
   "cell_type": "code",
   "execution_count": 26,
   "id": "dde24869",
   "metadata": {},
   "outputs": [],
   "source": [
    "# plt.plot(depth_range, train_error, c='red', label='Training Error')\n",
    "# plt.plot(depth_range, test_error, c='blue', label='Test Error')\n",
    "# plt.plot(depth_range, oob_error, c='green', label='OOB Error')\n",
    "# plt.ylabel('Errors')\n",
    "# plt.xlabel('Depth of trees')\n",
    "# plt.legend()\n",
    "# plt.show()"
   ]
  },
  {
   "cell_type": "code",
   "execution_count": 27,
   "id": "bf2904c7",
   "metadata": {},
   "outputs": [],
   "source": [
    "# plt.plot(depth_range, train_AUC, c='red', label='Training AUC Score')\n",
    "# plt.plot(depth_range, test_AUC, c='blue', label='Test AUC Score')\n",
    "# plt.ylabel('AUC Scores')\n",
    "# plt.xlabel('Depth of trees')\n",
    "# plt.legend()\n",
    "# plt.show()"
   ]
  },
  {
   "cell_type": "code",
   "execution_count": 28,
   "id": "2dd83cfd",
   "metadata": {},
   "outputs": [],
   "source": [
    "# plt.plot(depth_range, train_F1, c='red', label='Training F1 Score')\n",
    "# plt.plot(depth_range, test_F1, c='blue', label='Test F1 Score')\n",
    "# plt.ylabel('F1 Scores')\n",
    "# plt.xlabel('Depth of trees')\n",
    "# plt.legend()\n",
    "# plt.show()"
   ]
  },
  {
   "cell_type": "markdown",
   "id": "688fe23e",
   "metadata": {},
   "source": [
    "## Using Grid Search to select best parameters for BSM dataset:"
   ]
  },
  {
   "cell_type": "code",
   "execution_count": 29,
   "id": "94943bfe",
   "metadata": {},
   "outputs": [],
   "source": [
    "# Setting x and y variables\n",
    "\n",
    "# tr_x = trainX_BSM\n",
    "# tr_y = trainY_BSM\n",
    "# ts_x = testX_BSM\n",
    "# ts_y = testY_BSM\n",
    "\n",
    "# Setting model required parameters\n",
    "# rf_rb.set_params(random_state=42, oob_score=True)\n",
    "\n",
    "# Setting the parameter grid\n",
    "# grid_para_forest = [{\n",
    "#     \"n_estimators\": [80,100,115,125],\n",
    "#     \"max_depth\": [15,20,25,30],\n",
    "#     \"min_samples_leaf\": range(1, 5),\n",
    "#     \"min_samples_split\": np.linspace(start=2, stop=20, num=5, dtype=int)}]\n",
    "\n",
    "# Running the RF model through the grid search\n",
    "# grid_search_forest = RandomizedSearchCV(rf_rb, grid_para_forest,\\\n",
    "#                                   cv=5,scoring='f1_weighted',verbose=1,\\\n",
    "#                                   return_train_score = True, n_jobs=-1)\n",
    "\n",
    "# grid_search_forest.fit(tr_x, tr_y)"
   ]
  },
  {
   "cell_type": "code",
   "execution_count": 30,
   "id": "4dde3856",
   "metadata": {},
   "outputs": [],
   "source": [
    "# The best parameters\n",
    "\n",
    "# grid_search_forest.best_params_"
   ]
  },
  {
   "cell_type": "code",
   "execution_count": 31,
   "id": "0782380b",
   "metadata": {},
   "outputs": [],
   "source": [
    "# The best score\n",
    "\n",
    "# grid_search_forest.best_score_"
   ]
  },
  {
   "cell_type": "code",
   "execution_count": 32,
   "id": "04f44929",
   "metadata": {},
   "outputs": [],
   "source": [
    "# Best estimator training/test errors\n",
    "\n",
    "# print(\"The training error is: %.5f\" % (1 - grid_search_forest.best_estimator_.score(tr_x, tr_y)))\n",
    "# print(\"The test     error is: %.5f\" % (1 - grid_search_forest.best_estimator_.score(ts_x, ts_y)))"
   ]
  },
  {
   "cell_type": "markdown",
   "id": "fab196d3",
   "metadata": {},
   "source": [
    "## Using RandomizedSearchCV to select best parameters for SM dataset:"
   ]
  },
  {
   "cell_type": "code",
   "execution_count": 33,
   "id": "87cf6e2f",
   "metadata": {},
   "outputs": [],
   "source": [
    "# # Setting x and y variables\n",
    "\n",
    "# tr_x = trainX_SM\n",
    "# tr_y = trainY_SM\n",
    "# ts_x = testX_SM\n",
    "# ts_y = testY_SM\n",
    "\n",
    "# # Setting model required parameters\n",
    "# rf_rb.set_params(random_state=42, oob_score=True)\n",
    "\n",
    "# # Setting the parameter grid\n",
    "# grid_para_forest = [{\n",
    "#     \"n_estimators\": [80,100,115,125],\n",
    "#     \"max_depth\": [15,20,25,30],\n",
    "#     \"min_samples_leaf\": range(1, 5),\n",
    "#     \"min_samples_split\": np.linspace(start=2, stop=20, num=5, dtype=int)}]\n",
    "\n",
    "# # Running the RF model through the grid search\n",
    "# grid_search_forest = RandomizedSearchCV(rf_rb, grid_para_forest,\\\n",
    "#                                         cv=5,scoring='f1_weighted',verbose=1,\\\n",
    "#                                         return_train_score = True, n_jobs=-1)\n",
    "\n",
    "# grid_search_forest.fit(tr_x, tr_y)"
   ]
  },
  {
   "cell_type": "code",
   "execution_count": 34,
   "id": "a6411da6",
   "metadata": {},
   "outputs": [],
   "source": [
    "# The best parameters\n",
    "\n",
    "# grid_search_forest.best_params_"
   ]
  },
  {
   "cell_type": "code",
   "execution_count": 35,
   "id": "02215e84",
   "metadata": {},
   "outputs": [],
   "source": [
    "# The best score\n",
    "\n",
    "# grid_search_forest.best_score_"
   ]
  },
  {
   "cell_type": "code",
   "execution_count": 36,
   "id": "f0887ce1",
   "metadata": {},
   "outputs": [],
   "source": [
    "# Best estimator training/test errors\n",
    "\n",
    "# print(\"The training error is: %.5f\" % (1 - grid_search_forest.best_estimator_.score(tr_x, tr_y)))\n",
    "# print(\"The test     error is: %.5f\" % (1 - grid_search_forest.best_estimator_.score(ts_x, ts_y)))"
   ]
  },
  {
   "cell_type": "markdown",
   "id": "9fd4c901",
   "metadata": {},
   "source": [
    "### # Working towards the final models"
   ]
  },
  {
   "cell_type": "code",
   "execution_count": 37,
   "id": "13512e83",
   "metadata": {},
   "outputs": [
    {
     "name": "stdout",
     "output_type": "stream",
     "text": [
      "The Model Results for  RandomForestClassifier(max_depth=35, min_samples_split=11, n_estimators=115,\n",
      "                       oob_score=True, random_state=42)\n",
      "************************************************************\n",
      "Train Accuracy is equal to 0.956\n",
      "Test Accuracy is equal to 0.734\n",
      "The Precision score is 0.768\n",
      "The Average Precision score is 0.679\n",
      "The Recall score is 0.670\n",
      "The F1 score is 0.716\n",
      "The AUC/ROC score is 0.734\n",
      "True-Positive: 69421.000\n",
      "True-Negative: 82642.000\n",
      "False-Positive: 20983.000\n",
      "False-Negative: 34204.000\n",
      "Correctly Classified: 152063.000\n",
      "Incorrectly Classified: 55187.000\n"
     ]
    },
    {
     "data": {
      "text/plain": [
       "[0.9562574961743662,\n",
       " 0.7337177322074789,\n",
       " 0.7678974381664528,\n",
       " 0.6699252110977081]"
      ]
     },
     "execution_count": 37,
     "metadata": {},
     "output_type": "execute_result"
    }
   ],
   "source": [
    "# Selecting the best model from the Grid Search as the final SM model with some changes\n",
    "\n",
    "fin_rf1 = RandomForestClassifier(oob_score=True, random_state=42, max_depth=35,\\\n",
    "                                min_samples_leaf=1, min_samples_split=11, n_estimators=115)\n",
    "\n",
    "# Model with all features and BSM:\n",
    "\n",
    "model_results(trainX_SM, trainY_SM, testX_SM, testY_SM, fin_rf1, show=True)"
   ]
  },
  {
   "cell_type": "code",
   "execution_count": 38,
   "id": "995d50f7",
   "metadata": {},
   "outputs": [
    {
     "name": "stdout",
     "output_type": "stream",
     "text": [
      "The Model Results for  RandomForestClassifier(max_depth=35, min_samples_leaf=3, min_samples_split=6,\n",
      "                       n_estimators=125, oob_score=True, random_state=42)\n",
      "************************************************************\n",
      "Train Accuracy is equal to 0.960\n",
      "Test Accuracy is equal to 0.730\n",
      "The Precision score is 0.762\n",
      "The Average Precision score is 0.675\n",
      "The Recall score is 0.669\n",
      "The F1 score is 0.712\n",
      "The AUC/ROC score is 0.730\n",
      "True-Positive: 69299.000\n",
      "True-Negative: 81966.000\n",
      "False-Positive: 21659.000\n",
      "False-Negative: 34326.000\n",
      "Correctly Classified: 151265.000\n",
      "Incorrectly Classified: 55985.000\n"
     ]
    },
    {
     "data": {
      "text/plain": [
       "[0.9600169568633938,\n",
       " 0.7298673100120627,\n",
       " 0.7618791090393369,\n",
       " 0.6687478890229192]"
      ]
     },
     "execution_count": 38,
     "metadata": {},
     "output_type": "execute_result"
    }
   ],
   "source": [
    "# Selecting the best model from the Grid Search as the final BSM model with some changes\n",
    "\n",
    "fin_rf2 = RandomForestClassifier(oob_score=True, random_state=42, max_depth=35,\\\n",
    "                                 min_samples_leaf=3, min_samples_split=6, n_estimators=125)\n",
    "\n",
    "# Model with all features and BSM:\n",
    "\n",
    "model_results(trainX_BSM, trainY_BSM, testX_BSM, testY_BSM, fin_rf2, show=True)"
   ]
  },
  {
   "cell_type": "code",
   "execution_count": 39,
   "id": "3a07a3a1",
   "metadata": {},
   "outputs": [],
   "source": [
    "# Visualizing the confusion matrix with Yellowbricks (thres=0.5)\n",
    "\n",
    "# plt.figure(figsize = (10,10))\n",
    "# confusion_matrix(\n",
    "#     fin_rf1,\n",
    "#     trainX_SM, trainY_SM, testX_SM, testY_SM,\n",
    "#     classes=['Non-Fraud', 'Possibly-Fraud'])"
   ]
  },
  {
   "cell_type": "code",
   "execution_count": 40,
   "id": "42c8d658",
   "metadata": {},
   "outputs": [],
   "source": [
    "# Visualizing the confusion matrix with Yellowbricks (thres=0.5)\n",
    "\n",
    "# plt.figure(figsize = (10,10))\n",
    "# confusion_matrix(\n",
    "#     fin_rf2,\n",
    "#     trainX_BSM, trainY_BSM, testX_BSM, testY_BSM,\n",
    "#     classes=['Non-Fraud', 'Possibly-Fraud'])"
   ]
  },
  {
   "cell_type": "code",
   "execution_count": 41,
   "id": "887a9241",
   "metadata": {},
   "outputs": [],
   "source": [
    "# Visualizing the AUC/ROC curve with Yellowbricks\n",
    "\n",
    "# plt.figure(figsize = (14,12))\n",
    "# sns.set_style(\"whitegrid\")\n",
    "\n",
    "# visualizer = ROCAUC(fin_rf1, classes=['Non-Fraud', 'Possibly-Fraud'])\n",
    "\n",
    "# visualizer.fit(trainX_SM, trainY_SM)        # Fit the training data to the visualizer\n",
    "# visualizer.score(testX_SM, testY_SM)        # Evaluate the model on the test data\n",
    "# visualizer.show()"
   ]
  },
  {
   "cell_type": "code",
   "execution_count": 42,
   "id": "3424aa85",
   "metadata": {},
   "outputs": [],
   "source": [
    "# Visualizing the AUC/ROC curve with Yellowbricks\n",
    "\n",
    "# plt.figure(figsize = (14,12))\n",
    "# sns.set_style(\"whitegrid\")\n",
    "\n",
    "# visualizer = ROCAUC(fin_rf2, classes=['Non-Fraud', 'Possibly-Fraud'])\n",
    "\n",
    "# visualizer.fit(trainX_BSM, trainY_BSM)        # Fit the training data to the visualizer\n",
    "# visualizer.score(testX_BSM, testY_BSM)        # Evaluate the model on the test data\n",
    "# visualizer.show()"
   ]
  },
  {
   "cell_type": "code",
   "execution_count": 43,
   "id": "a75baa59",
   "metadata": {},
   "outputs": [],
   "source": [
    "# Visualizing the classification report with Yellowbricks\n",
    "\n",
    "# plt.figure(figsize = (12,6))\n",
    "# sns.set_style(\"whitegrid\")\n",
    "\n",
    "# visualizer = classification_report(\n",
    "#     fin_rf1,\n",
    "#     trainX_SM, trainY_SM, testX_SM, testY_SM,\n",
    "#     classes=['Non-Fraud', 'Possibly-Fraud'],\n",
    "#     cmap='YlGnBu',\n",
    "#     support=True)"
   ]
  },
  {
   "cell_type": "code",
   "execution_count": 44,
   "id": "5a3dd4b8",
   "metadata": {},
   "outputs": [],
   "source": [
    "# Visualizing the classification report with Yellowbricks\n",
    "\n",
    "# plt.figure(figsize = (12,6))\n",
    "# sns.set_style(\"whitegrid\")\n",
    "\n",
    "# visualizer = classification_report(\n",
    "#     fin_rf2,\n",
    "#     trainX_BSM, trainY_BSM, testX_BSM, testY_BSM,\n",
    "#     classes=['Non-Fraud', 'Possibly-Fraud'],\n",
    "#     cmap='YlGnBu',\n",
    "#     support=True)"
   ]
  },
  {
   "cell_type": "markdown",
   "id": "5775355f",
   "metadata": {},
   "source": [
    "### # Plotting scores for max leaves per node in the random forest:"
   ]
  },
  {
   "cell_type": "code",
   "execution_count": 45,
   "id": "fb9a1152",
   "metadata": {},
   "outputs": [],
   "source": [
    "# max_range = [95,115,130,150]\n",
    "# train_error = []\n",
    "# test_error = []\n",
    "# oob_error = []\n",
    "# train_AUC = []\n",
    "# test_AUC = []\n",
    "# train_F1 = []\n",
    "# test_F1 = []\n",
    "\n",
    "# for max_leaf_nodes in max_range:\n",
    "#     fin_rf.set_params(max_leaf_nodes=max_leaf_nodes)\n",
    "#     fin_rf.fit(trainX_BSM, trainY_BSM)\n",
    "#     train_error.append(1 - fin_rf.score(trainX_BSM, trainY_BSM))\n",
    "#     test_error.append(1 - fin_rf.score(testX_BSM, testY_BSM))\n",
    "#     oob_error.append(1 - fin_rf.oob_score_)  \n",
    "#     train_AUC.append(roc_auc_score(trainY_BSM, fin_rf.predict(trainX_BSM)))\n",
    "#     test_AUC.append(roc_auc_score(testY_BSM, fin_rf.predict(testX_BSM)))\n",
    "#     train_F1.append(f1_score(trainY_BSM, fin_rf.predict(trainX_BSM)))\n",
    "#     test_F1.append(f1_score(testY_BSM, fin_rf.predict(testX_BSM)))"
   ]
  },
  {
   "cell_type": "code",
   "execution_count": 46,
   "id": "0757c8b0",
   "metadata": {},
   "outputs": [],
   "source": [
    "# plt.plot(max_range, train_error, c='red', label='Training Error')\n",
    "# plt.plot(max_range, test_error, c='blue', label='Test Error')\n",
    "# plt.plot(max_range, oob_error, c='green', label='OOB Error')\n",
    "# plt.ylabel('Errors')\n",
    "# plt.xlabel('Max Leaves')\n",
    "# plt.legend()\n",
    "# plt.show()"
   ]
  },
  {
   "cell_type": "code",
   "execution_count": 47,
   "id": "aac888ad",
   "metadata": {},
   "outputs": [],
   "source": [
    "# plt.plot(max_range, train_AUC, c='red', label='Training AUC Score')\n",
    "# plt.plot(max_range, test_AUC, c='blue', label='Test AUC Score')\n",
    "# plt.ylabel('AUC Scores')\n",
    "# plt.xlabel('Max Leaves')\n",
    "# plt.legend()\n",
    "# plt.show()"
   ]
  },
  {
   "cell_type": "code",
   "execution_count": 48,
   "id": "1e0dd7c5",
   "metadata": {},
   "outputs": [],
   "source": [
    "# plt.plot(max_range, train_F1, c='red', label='Training F1 Score')\n",
    "# plt.plot(max_range, test_F1, c='blue', label='Test F1 Score')\n",
    "# plt.ylabel('F1 Scores')\n",
    "# plt.xlabel('Max Leaves')\n",
    "# plt.legend()\n",
    "# plt.show()"
   ]
  },
  {
   "cell_type": "markdown",
   "id": "8da79b4d",
   "metadata": {},
   "source": [
    "### # Feature Selection with RFE"
   ]
  },
  {
   "cell_type": "code",
   "execution_count": 49,
   "id": "897efa26",
   "metadata": {},
   "outputs": [
    {
     "name": "stdout",
     "output_type": "stream",
     "text": [
      "The Model Results for  RFE(estimator=RandomForestClassifier(max_depth=35, min_samples_split=11,\n",
      "                                     n_estimators=115, oob_score=True,\n",
      "                                     random_state=42),\n",
      "    n_features_to_select=20, step=10)\n",
      "************************************************************\n",
      "Train Accuracy is equal to 0.975\n",
      "Test Accuracy is equal to 0.772\n",
      "The Precision score is 0.805\n",
      "The Average Precision score is 0.719\n",
      "The Recall score is 0.718\n",
      "The F1 score is 0.759\n",
      "The AUC/ROC score is 0.772\n",
      "True-Positive: 74366.000\n",
      "True-Negative: 85646.000\n",
      "False-Positive: 17979.000\n",
      "False-Negative: 29259.000\n",
      "Correctly Classified: 160012.000\n",
      "Incorrectly Classified: 47238.000\n"
     ]
    },
    {
     "data": {
      "text/plain": [
       "[0.974541957897349, 0.7720723763570567, 0.8053061887487141, 0.7176453558504222]"
      ]
     },
     "execution_count": 49,
     "metadata": {},
     "output_type": "execute_result"
    }
   ],
   "source": [
    "from sklearn.feature_selection import RFE\n",
    "\n",
    "# Extracting top 20 best features with RFE:\n",
    "\n",
    "rfe1 = RFE(estimator=fin_rf1, n_features_to_select=20, step=10)\n",
    "\n",
    "# Running model to compare performance\n",
    "\n",
    "model_results(trainX_SM, trainY_SM, testX_SM, testY_SM, rfe1, show=True)"
   ]
  },
  {
   "cell_type": "code",
   "execution_count": 50,
   "id": "aa8fff23",
   "metadata": {},
   "outputs": [
    {
     "name": "stdout",
     "output_type": "stream",
     "text": [
      "Index(['State', 'County', 'Age', 'Tot_Reimbursed_Amt', 'Tot_Deductible_Amt',\n",
      "       'DOB_year', 'DOB_month', 'InscClaimAmtReimbursed', 'AttendingPhysician',\n",
      "       'OperatingPhysician', 'OtherPhysician', 'ClmAdmitDiagnosisCode',\n",
      "       'ClmDiagnosisCode_1', 'ClmDiagnosisCode_2', 'ClmDiagnosisCode_3',\n",
      "       'ClmDiagnosisCode_4', 'Claim_Start_Month', 'Insurance_Covered_Per',\n",
      "       'Total_Claim_Amt', 'Chr_Cond_Count'],\n",
      "      dtype='object')\n"
     ]
    }
   ],
   "source": [
    "# Looking at RFE feature selection\n",
    "\n",
    "print(trainX_SM.columns[rfe1.support_])"
   ]
  },
  {
   "cell_type": "code",
   "execution_count": 51,
   "id": "28d1028e",
   "metadata": {},
   "outputs": [
    {
     "name": "stdout",
     "output_type": "stream",
     "text": [
      "The Model Results for  RFE(estimator=RandomForestClassifier(max_depth=35, min_samples_leaf=3,\n",
      "                                     min_samples_split=6, n_estimators=125,\n",
      "                                     oob_score=True, random_state=42),\n",
      "    n_features_to_select=20, step=10)\n",
      "************************************************************\n",
      "Train Accuracy is equal to 0.976\n",
      "Test Accuracy is equal to 0.765\n",
      "The Precision score is 0.792\n",
      "The Average Precision score is 0.710\n",
      "The Recall score is 0.719\n",
      "The F1 score is 0.754\n",
      "The AUC/ROC score is 0.765\n",
      "True-Positive: 74553.000\n",
      "True-Negative: 84059.000\n",
      "False-Positive: 19566.000\n",
      "False-Negative: 29072.000\n",
      "Correctly Classified: 158612.000\n",
      "Incorrectly Classified: 48638.000\n"
     ]
    },
    {
     "data": {
      "text/plain": [
       "[0.9763637867571032,\n",
       " 0.7653172496984318,\n",
       " 0.7921142383578236,\n",
       " 0.7194499396863692]"
      ]
     },
     "execution_count": 51,
     "metadata": {},
     "output_type": "execute_result"
    }
   ],
   "source": [
    "# Extracting top 20 best features with RFE:\n",
    "\n",
    "rfe2 = RFE(estimator=fin_rf2, n_features_to_select=20, step=10)\n",
    "\n",
    "# Running model to compare performance\n",
    "\n",
    "model_results(trainX_BSM, trainY_BSM, testX_BSM, testY_BSM, rfe2, show=True)"
   ]
  },
  {
   "cell_type": "code",
   "execution_count": 52,
   "id": "d6d3ae26",
   "metadata": {},
   "outputs": [
    {
     "name": "stdout",
     "output_type": "stream",
     "text": [
      "Index(['State', 'County', 'Age', 'Tot_Reimbursed_Amt', 'Tot_Deductible_Amt',\n",
      "       'DOB_year', 'DOB_month', 'InscClaimAmtReimbursed', 'AttendingPhysician',\n",
      "       'OperatingPhysician', 'OtherPhysician', 'ClmAdmitDiagnosisCode',\n",
      "       'ClmDiagnosisCode_1', 'ClmDiagnosisCode_2', 'ClmDiagnosisCode_3',\n",
      "       'ClmDiagnosisCode_4', 'Claim_Start_Month', 'Insurance_Covered_Per',\n",
      "       'Total_Claim_Amt', 'Chr_Cond_Count'],\n",
      "      dtype='object')\n"
     ]
    }
   ],
   "source": [
    "# Looking at RFE feature selection\n",
    "\n",
    "print(trainX_BSM.columns[rfe2.support_])"
   ]
  },
  {
   "cell_type": "markdown",
   "id": "1c795e34",
   "metadata": {},
   "source": [
    "### # Feature Selection with SelectKBest"
   ]
  },
  {
   "cell_type": "code",
   "execution_count": 53,
   "id": "c9eff10f",
   "metadata": {},
   "outputs": [
    {
     "name": "stdout",
     "output_type": "stream",
     "text": [
      "                  Features        Score\n",
      "17       DeductibleAmtPaid  5867.520417\n",
      "18      DiagnosisGroupCode  4947.267627\n",
      "0                   Gender  4260.034986\n",
      "34           Hospital_Stay  3438.865976\n",
      "39         Total_Claim_Amt  3236.504273\n",
      "12  InscClaimAmtReimbursed  2937.077454\n",
      "29      ClmProcedureCode_1  2352.288924\n",
      "27      ClmDiagnosisCode_9  1921.833633\n",
      "26      ClmDiagnosisCode_8  1894.904913\n",
      "2    RenalDiseaseIndicator  1785.724016\n",
      "25      ClmDiagnosisCode_7  1721.845340\n",
      "24      ClmDiagnosisCode_6  1396.983950\n",
      "3                    State  1335.522541\n",
      "43          Chr_Cond_Count  1208.187309\n",
      "23      ClmDiagnosisCode_5  1126.867406\n",
      "30      ClmProcedureCode_2   813.158557\n",
      "16   ClmAdmitDiagnosisCode   770.057906\n",
      "22      ClmDiagnosisCode_4   651.887687\n",
      "7       Tot_Reimbursed_Amt   497.878115\n",
      "37       Claim_Start_Month   382.678498\n"
     ]
    }
   ],
   "source": [
    "from sklearn.feature_selection import SelectKBest\n",
    "\n",
    "# Extracting top 20 best features by applying SelectKBest class\n",
    "\n",
    "bestfeatures1 = SelectKBest(k=20)\n",
    "fit1 = bestfeatures1.fit(trainX_SM, trainY_SM)\n",
    "dfscores = pd.DataFrame(fit1.scores_)\n",
    "dfcolumns = pd.DataFrame(trainX_SM.columns)\n",
    "\n",
    "#concat two dataframes\n",
    "\n",
    "featureScores1 = pd.concat([dfcolumns,dfscores],axis=1)\n",
    "featureScores1.columns = ['Features','Score']  #naming the dataframe columns\n",
    "print(featureScores1.nlargest(20,'Score'))  #printing 10 best features"
   ]
  },
  {
   "cell_type": "code",
   "execution_count": 54,
   "id": "486864f5",
   "metadata": {},
   "outputs": [],
   "source": [
    "# Model using SelectKBest 20 features\n",
    "\n",
    "# selected_feat1 = featureScores1.nlargest(20,'Score')['Features'].to_list()\n",
    "\n",
    "# model_results(trainX_SM[selected_feat1], trainY_SM, testX_SM[selected_feat1], testY_SM, fin_rf1, show=True)"
   ]
  },
  {
   "cell_type": "code",
   "execution_count": 55,
   "id": "fe51dbee",
   "metadata": {},
   "outputs": [
    {
     "name": "stdout",
     "output_type": "stream",
     "text": [
      "                  Features        Score\n",
      "0                   Gender  4155.367117\n",
      "17       DeductibleAmtPaid  3143.514624\n",
      "18      DiagnosisGroupCode  2616.581556\n",
      "34           Hospital_Stay  1831.444690\n",
      "2    RenalDiseaseIndicator  1776.854552\n",
      "39         Total_Claim_Amt  1646.432963\n",
      "12  InscClaimAmtReimbursed  1481.391703\n",
      "29      ClmProcedureCode_1  1242.842004\n",
      "43          Chr_Cond_Count  1190.657100\n",
      "3                    State   942.408093\n",
      "27      ClmDiagnosisCode_9   866.579043\n",
      "26      ClmDiagnosisCode_8   865.828705\n",
      "25      ClmDiagnosisCode_7   781.247777\n",
      "24      ClmDiagnosisCode_6   570.252578\n",
      "23      ClmDiagnosisCode_5   461.329510\n",
      "30      ClmProcedureCode_2   439.161461\n",
      "37       Claim_Start_Month   433.789779\n",
      "16   ClmAdmitDiagnosisCode   422.414040\n",
      "42          Hospital_Count   389.001931\n",
      "10               DOB_month   376.744869\n"
     ]
    }
   ],
   "source": [
    "from sklearn.feature_selection import SelectKBest\n",
    "\n",
    "# Extracting top 20 best features by applying SelectKBest class\n",
    "\n",
    "bestfeatures2 = SelectKBest(k=20)\n",
    "fit2 = bestfeatures2.fit(trainX_BSM, trainY_BSM)\n",
    "dfscores = pd.DataFrame(fit2.scores_)\n",
    "dfcolumns = pd.DataFrame(trainX_BSM.columns)\n",
    "\n",
    "#concat two dataframes\n",
    "\n",
    "featureScores2 = pd.concat([dfcolumns,dfscores],axis=1)\n",
    "featureScores2.columns = ['Features','Score']  #naming the dataframe columns\n",
    "print(featureScores2.nlargest(20,'Score'))  #printing 10 best features"
   ]
  },
  {
   "cell_type": "code",
   "execution_count": 56,
   "id": "0b72a67b",
   "metadata": {},
   "outputs": [],
   "source": [
    "# Model using SelectKBest 20 features\n",
    "\n",
    "# selected_feat2 = featureScores2.nlargest(20,'Score')['Features'].to_list()\n",
    "\n",
    "# model_results(trainX_BSM[selected_feat2], trainY_BSM, testX_BSM[selected_feat2], testY_BSM, fin_rf2, show=True)"
   ]
  },
  {
   "cell_type": "markdown",
   "id": "1c81e28a",
   "metadata": {},
   "source": [
    "### # Random Forest Feature Importances using RFE support features:"
   ]
  },
  {
   "cell_type": "code",
   "execution_count": 57,
   "id": "91d3df52",
   "metadata": {},
   "outputs": [
    {
     "name": "stdout",
     "output_type": "stream",
     "text": [
      "The Model Results for  RandomForestClassifier(max_depth=35, min_samples_split=11, n_estimators=115,\n",
      "                       oob_score=True, random_state=42)\n",
      "************************************************************\n",
      "Train Accuracy is equal to 0.975\n",
      "Test Accuracy is equal to 0.772\n",
      "The Precision score is 0.805\n",
      "The Average Precision score is 0.719\n",
      "The Recall score is 0.718\n",
      "The F1 score is 0.759\n",
      "The AUC/ROC score is 0.772\n",
      "True-Positive: 74366.000\n",
      "True-Negative: 85646.000\n",
      "False-Positive: 17979.000\n",
      "False-Negative: 29259.000\n",
      "Correctly Classified: 160012.000\n",
      "Incorrectly Classified: 47238.000\n"
     ]
    },
    {
     "data": {
      "text/plain": [
       "[0.974541957897349, 0.7720723763570567, 0.8053061887487141, 0.7176453558504222]"
      ]
     },
     "execution_count": 57,
     "metadata": {},
     "output_type": "execute_result"
    }
   ],
   "source": [
    "# Model using RFE 20 features\n",
    "\n",
    "selected_feat1 = trainX_SM.columns[rfe1.support_]\n",
    "\n",
    "model_results(trainX_SM[selected_feat1], trainY_SM, testX_SM[selected_feat1], testY_SM, fin_rf1, show=True)"
   ]
  },
  {
   "cell_type": "code",
   "execution_count": 58,
   "id": "3c7b8811",
   "metadata": {},
   "outputs": [
    {
     "data": {
      "image/png": "[encoded data removed]",
      "text/plain": [
       "<Figure size 1584x864 with 1 Axes>"
      ]
     },
     "metadata": {},
     "output_type": "display_data"
    }
   ],
   "source": [
    "# Creating feature importance table:\n",
    "\n",
    "feature_imp_df1 = pd.DataFrame(zip(selected_feat1,\\\n",
    "                               abs(fin_rf1.feature_importances_)),\n",
    "                               columns=[\"Feature Name\", \"Weight\"])\n",
    "\n",
    "feature_imp_df1 = feature_imp_df1.sort_values(\"Weight\", ascending=False)\\\n",
    "                  .reset_index(drop=True)\n",
    "\n",
    "# Looking at top 25 features\n",
    "\n",
    "top_features1 = feature_imp_df1.head(20)\n",
    "\n",
    "# Visualizing the results\n",
    "\n",
    "plt.figure(figsize = (22,12))\n",
    "plt.barh(top_features1[\"Feature Name\"].head(15), top_features1[\"Weight\"].head(15), color =\"violet\")\n",
    "plt.xlabel(\"Importance weights of features\", fontsize = 22)\n",
    "plt.title(\"Final SM (Non-RFE) Random forest model feature importances\", fontsize = 28)\n",
    "plt.yticks(fontsize=18)\n",
    "plt.xticks(fontsize=18)\n",
    "plt.show()"
   ]
  },
  {
   "cell_type": "code",
   "execution_count": null,
   "id": "776fc219",
   "metadata": {},
   "outputs": [],
   "source": [
    "# Model using RFE 20 features\n",
    "\n",
    "selected_feat2 = trainX_BSM.columns[rfe2.support_]\n",
    "\n",
    "model_results(trainX_BSM[selected_feat2], trainY_BSM, testX_BSM[selected_feat2], testY_BSM, fin_rf2, show=True)"
   ]
  },
  {
   "cell_type": "code",
   "execution_count": null,
   "id": "eab349d2",
   "metadata": {},
   "outputs": [],
   "source": [
    "# Creating feature importance table:\n",
    "\n",
    "feature_imp_df2 = pd.DataFrame(zip(selected_feat2,\\\n",
    "                               abs(fin_rf2.feature_importances_)),\n",
    "                               columns=[\"Feature Name\", \"Weight\"])\n",
    "\n",
    "feature_imp_df2 = feature_imp_df2.sort_values(\"Weight\", ascending=False)\\\n",
    "                  .reset_index(drop=True)\n",
    "\n",
    "# Looking at top 25 features\n",
    "\n",
    "top_features2 = feature_imp_df2.head(20)\n",
    "\n",
    "# Visualizing the results\n",
    "\n",
    "plt.figure(figsize = (22,12))\n",
    "plt.barh(top_features2[\"Feature Name\"].head(15), top_features2[\"Weight\"].head(15), color =\"violet\")\n",
    "plt.xlabel(\"Importance weights of features\", fontsize = 22)\n",
    "plt.title(\"Final BSM (Non-RFE) Random forest model feature importances\", fontsize = 28)\n",
    "plt.yticks(fontsize=18)\n",
    "plt.xticks(fontsize=18)\n",
    "plt.show()"
   ]
  },
  {
   "cell_type": "markdown",
   "id": "ebe7adbd",
   "metadata": {},
   "source": [
    "### # Visualizing a single tree for both models:"
   ]
  },
  {
   "cell_type": "code",
   "execution_count": null,
   "id": "7451fbf7",
   "metadata": {},
   "outputs": [],
   "source": [
    "forest_tree_data = tree.export_graphviz(fin_rf1.estimators_[0],\n",
    "                     out_file=None, rounded=True, feature_names = selected_feat1, \n",
    "                     filled = True)\n",
    "\n",
    "graph = gv.Source(forest_tree_data)\n",
    "display(SVG(graph.pipe(format='svg')))"
   ]
  },
  {
   "cell_type": "code",
   "execution_count": null,
   "id": "ccb6e8a1",
   "metadata": {},
   "outputs": [],
   "source": [
    "forest_tree_data = tree.export_graphviz(fin_rf2.estimators_[0],\n",
    "                     out_file=None, rounded=True, feature_names = selected_feat2, \n",
    "                     filled = True)\n",
    "\n",
    "graph = gv.Source(forest_tree_data)\n",
    "display(SVG(graph.pipe(format='svg')))"
   ]
  },
  {
   "cell_type": "markdown",
   "id": "347c6a8f",
   "metadata": {},
   "source": [
    "### # Full set of evaluation metrics for both models:"
   ]
  },
  {
   "cell_type": "markdown",
   "id": "a47796c6",
   "metadata": {},
   "source": [
    "- Confusion matrix:"
   ]
  },
  {
   "cell_type": "code",
   "execution_count": null,
   "id": "e1b3eef7",
   "metadata": {},
   "outputs": [],
   "source": [
    "# Visualizing the confusion matrix with Yellowbricks (thres=0.5)\n",
    "\n",
    "plt.figure(figsize = (10,10))\n",
    "confusion_matrix(\n",
    "    fin_rf1,\n",
    "    trainX_SM, trainY_SM, testX_SM, testY_SM,\n",
    "    classes=['Non-Fraud', 'Possibly-Fraud'])"
   ]
  },
  {
   "cell_type": "code",
   "execution_count": null,
   "id": "a3fe69e2",
   "metadata": {},
   "outputs": [],
   "source": [
    "# Visualizing the confusion matrix with Yellowbricks (thres=0.5)\n",
    "\n",
    "plt.figure(figsize = (10,10))\n",
    "confusion_matrix(\n",
    "    fin_rf2,\n",
    "    trainX_BSM, trainY_BSM, testX_BSM, testY_BSM,\n",
    "    classes=['Non-Fraud', 'Possibly-Fraud'])"
   ]
  },
  {
   "cell_type": "markdown",
   "id": "50dfcc14",
   "metadata": {},
   "source": [
    "- AUC/ROC curve"
   ]
  },
  {
   "cell_type": "code",
   "execution_count": null,
   "id": "bc66d96e",
   "metadata": {},
   "outputs": [],
   "source": [
    "# Visualizing the AUC/ROC curve with Yellowbricks\n",
    "\n",
    "plt.figure(figsize = (14,12))\n",
    "sns.set_style(\"whitegrid\")\n",
    "\n",
    "visualizer = ROCAUC(fin_rf1, classes=['Non-Fraud', 'Possibly-Fraud'])\n",
    "\n",
    "visualizer.fit(trainX_SM, trainY_SM)        # Fit the training data to the visualizer\n",
    "visualizer.score(testX_SM, testY_SM)        # Evaluate the model on the test data\n",
    "visualizer.show()"
   ]
  },
  {
   "cell_type": "code",
   "execution_count": null,
   "id": "c735c54d",
   "metadata": {},
   "outputs": [],
   "source": [
    "# Visualizing the AUC/ROC curve with Yellowbricks\n",
    "\n",
    "plt.figure(figsize = (14,12))\n",
    "sns.set_style(\"whitegrid\")\n",
    "\n",
    "visualizer = ROCAUC(fin_rf2, classes=['Non-Fraud', 'Possibly-Fraud'])\n",
    "\n",
    "visualizer.fit(trainX_BSM, trainY_BSM)        # Fit the training data to the visualizer\n",
    "visualizer.score(testX_BSM, testY_BSM)        # Evaluate the model on the test data\n",
    "visualizer.show()"
   ]
  },
  {
   "cell_type": "markdown",
   "id": "8fa9fa27",
   "metadata": {},
   "source": [
    "- Classification report"
   ]
  },
  {
   "cell_type": "code",
   "execution_count": null,
   "id": "9a206dfa",
   "metadata": {},
   "outputs": [],
   "source": [
    "# Visualizing the classification report with Yellowbricks\n",
    "\n",
    "plt.figure(figsize = (12,6))\n",
    "sns.set_style(\"whitegrid\")\n",
    "\n",
    "visualizer = classification_report(\n",
    "    fin_rf1,\n",
    "    trainX_SM, trainY_SM, testX_SM, testY_SM,\n",
    "    classes=['Non-Fraud', 'Possibly-Fraud'],\n",
    "    cmap='YlGnBu',\n",
    "    support=True)"
   ]
  },
  {
   "cell_type": "code",
   "execution_count": null,
   "id": "6889a98f",
   "metadata": {},
   "outputs": [],
   "source": [
    "# Visualizing the classification report with Yellowbricks\n",
    "\n",
    "plt.figure(figsize = (12,6))\n",
    "sns.set_style(\"whitegrid\")\n",
    "\n",
    "visualizer = classification_report(\n",
    "    fin_rf2,\n",
    "    trainX_BSM, trainY_BSM, testX_BSM, testY_BSM,\n",
    "    classes=['Non-Fraud', 'Possibly-Fraud'],\n",
    "    cmap='YlGnBu',\n",
    "    support=True)"
   ]
  },
  {
   "cell_type": "markdown",
   "id": "341674c5",
   "metadata": {},
   "source": [
    "- Precision-recall curve"
   ]
  },
  {
   "cell_type": "code",
   "execution_count": null,
   "id": "ef4bc03b",
   "metadata": {},
   "outputs": [],
   "source": [
    "# Visualizing precision-recall curve\n",
    "\n",
    "from yellowbrick.classifier import precision_recall_curve\n",
    "\n",
    "plt.figure(figsize = (14,12))\n",
    "sns.set_style(\"whitegrid\")\n",
    "viz = precision_recall_curve(fin_rf1, trainX_SM, trainY_SM, testX_SM, testY_SM)"
   ]
  },
  {
   "cell_type": "code",
   "execution_count": null,
   "id": "68dcf410",
   "metadata": {},
   "outputs": [],
   "source": [
    "# Visualizing precision-recall curve\n",
    "\n",
    "from yellowbrick.classifier import precision_recall_curve\n",
    "\n",
    "plt.figure(figsize = (14,12))\n",
    "sns.set_style(\"whitegrid\")\n",
    "viz = precision_recall_curve(fin_rf2, trainX_BSM, trainY_BSM, testX_BSM, testY_BSM)"
   ]
  },
  {
   "cell_type": "markdown",
   "id": "692d4c9f",
   "metadata": {},
   "source": [
    "- Prediction error"
   ]
  },
  {
   "cell_type": "code",
   "execution_count": null,
   "id": "bc040523",
   "metadata": {},
   "outputs": [],
   "source": [
    "# Visualizing prediction error\n",
    "\n",
    "from yellowbrick.classifier import class_prediction_error\n",
    "\n",
    "plt.figure(figsize = (14,10))\n",
    "sns.set_style(\"whitegrid\")\n",
    "class_prediction_error(\n",
    "    fin_rf1,\n",
    "    trainX_BSM, trainY_BSM, testX_BSM, testY_BSM,\n",
    "    classes=['Non-Fraud', 'Possibly-Fraud'])"
   ]
  },
  {
   "cell_type": "code",
   "execution_count": null,
   "id": "e63483a3",
   "metadata": {},
   "outputs": [],
   "source": [
    "# Visualizing prediction error\n",
    "\n",
    "from yellowbrick.classifier import class_prediction_error\n",
    "\n",
    "plt.figure(figsize = (14,10))\n",
    "sns.set_style(\"whitegrid\")\n",
    "class_prediction_error(\n",
    "    fin_rf2,\n",
    "    trainX_BSM, trainY_BSM, testX_BSM, testY_BSM,\n",
    "    classes=['Non-Fraud', 'Possibly-Fraud'])"
   ]
  },
  {
   "cell_type": "markdown",
   "id": "eb7ae869",
   "metadata": {},
   "source": [
    "### # Threshold selection for both:"
   ]
  },
  {
   "cell_type": "code",
   "execution_count": null,
   "id": "adf1a641",
   "metadata": {},
   "outputs": [],
   "source": [
    "# Visualizing the threshold\n",
    "\n",
    "from sklearn.metrics import roc_curve\n",
    "\n",
    "sns.set_style(\"whitegrid\")\n",
    "fpr, tpr, thresholds = roc_curve(trainY_SM,fin_rf1.predict_proba(trainX_SM)[:,1],drop_intermediate=False)\n",
    "\n",
    "plt.figure(figsize = (10,12))\n",
    "plt.scatter(thresholds,np.abs(fpr+tpr-1),linewidths=0.75)\n",
    "plt.xlabel(\"Threshold\")\n",
    "plt.ylabel(\"|FPR + TPR - 1|\")\n",
    "plt.show()"
   ]
  },
  {
   "cell_type": "code",
   "execution_count": null,
   "id": "8d7fc512",
   "metadata": {},
   "outputs": [],
   "source": [
    "# Visualizing the threshold\n",
    "\n",
    "sns.set_style(\"whitegrid\")\n",
    "fpr, tpr, thresholds = roc_curve(trainY_BSM,fin_rf2.predict_proba(trainX_BSM)[:,1],drop_intermediate=False)\n",
    "\n",
    "plt.figure(figsize = (10,12))\n",
    "plt.scatter(thresholds,np.abs(fpr+tpr-1),linewidths=0.75)\n",
    "plt.xlabel(\"Threshold\")\n",
    "plt.ylabel(\"|FPR + TPR - 1|\")\n",
    "plt.show()"
   ]
  }
 ],
 "metadata": {
  "kernelspec": {
   "display_name": "Python 3",
   "language": "python",
   "name": "python3"
  },
  "language_info": {
   "codemirror_mode": {
    "name": "ipython",
    "version": 3
   },
   "file_extension": ".py",
   "mimetype": "text/x-python",
   "name": "python",
   "nbconvert_exporter": "python",
   "pygments_lexer": "ipython3",
   "version": "3.8.8"
  }
 },
 "nbformat": 4,
 "nbformat_minor": 5
}
